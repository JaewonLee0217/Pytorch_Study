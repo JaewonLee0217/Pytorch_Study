{
 "cells": [
  {
   "cell_type": "code",
   "execution_count": 1,
   "id": "offshore-examination",
   "metadata": {},
   "outputs": [],
   "source": [
    "import torch\n",
    "import numpy as np\n"
   ]
  },
  {
   "cell_type": "code",
   "execution_count": 2,
   "id": "sufficient-burning",
   "metadata": {},
   "outputs": [
    {
     "ename": "ModuleNotFoundError",
     "evalue": "No module named 'pandas'",
     "output_type": "error",
     "traceback": [
      "\u001b[1;31m---------------------------------------------------------------------------\u001b[0m",
      "\u001b[1;31mModuleNotFoundError\u001b[0m                       Traceback (most recent call last)",
      "\u001b[1;32m<ipython-input-2-38d4b0363d82>\u001b[0m in \u001b[0;36m<module>\u001b[1;34m\u001b[0m\n\u001b[1;32m----> 1\u001b[1;33m \u001b[1;32mimport\u001b[0m \u001b[0mpandas\u001b[0m\u001b[1;33m\u001b[0m\u001b[1;33m\u001b[0m\u001b[0m\n\u001b[0m",
      "\u001b[1;31mModuleNotFoundError\u001b[0m: No module named 'pandas'"
     ]
    }
   ],
   "source": [
    "import pandas\n"
   ]
  },
  {
   "cell_type": "code",
   "execution_count": 3,
   "id": "crazy-browser",
   "metadata": {},
   "outputs": [
    {
     "name": "stdout",
     "output_type": "stream",
     "text": [
      "Collecting pandas\n",
      "  Downloading pandas-1.2.1-cp37-cp37m-win_amd64.whl (9.1 MB)Note: you may need to restart the kernel to use updated packages.\n",
      "Requirement already satisfied: python-dateutil>=2.7.3 in c:\\users\\pc\\anaconda3\\envs\\pytorch_study\\lib\\site-packages (from pandas) (2.8.1)\n",
      "Requirement already satisfied: numpy>=1.16.5 in c:\\users\\pc\\anaconda3\\envs\\pytorch_study\\lib\\site-packages (from pandas) (1.19.5)\n",
      "\n",
      "Requirement already satisfied: six>=1.5 in c:\\users\\pc\\anaconda3\\envs\\pytorch_study\\lib\\site-packages (from python-dateutil>=2.7.3->pandas) (1.15.0)\n",
      "Collecting pytz>=2017.3\n",
      "  Using cached pytz-2020.5-py2.py3-none-any.whl (510 kB)\n",
      "Installing collected packages: pytz, pandas\n",
      "Successfully installed pandas-1.2.1 pytz-2020.5\n"
     ]
    }
   ],
   "source": [
    "pip install pandas\n"
   ]
  },
  {
   "cell_type": "code",
   "execution_count": 4,
   "id": "fantastic-israel",
   "metadata": {},
   "outputs": [],
   "source": [
    "import pandas\n",
    "\n"
   ]
  },
  {
   "cell_type": "code",
   "execution_count": 5,
   "id": "powerful-twenty",
   "metadata": {},
   "outputs": [
    {
     "name": "stdout",
     "output_type": "stream",
     "text": [
      "Collecting matplot\n",
      "  Downloading matplot-0.1.9-py2.py3-none-any.whl (5.0 kB)\n",
      "Collecting matplotlib>=3.1.1\n",
      "  Downloading matplotlib-3.3.3-cp37-cp37m-win_amd64.whl (8.5 MB)\n",
      "Requirement already satisfied: pyparsing!=2.0.4,!=2.1.2,!=2.1.6,>=2.0.3 in c:\\users\\pc\\anaconda3\\envs\\pytorch_study\\lib\\site-packages (from matplotlib>=3.1.1->matplot) (2.4.7)\n",
      "Requirement already satisfied: numpy>=1.15 in c:\\users\\pc\\anaconda3\\envs\\pytorch_study\\lib\\site-packages (from matplotlib>=3.1.1->matplot) (1.19.5)\n",
      "Requirement already satisfied: pillow>=6.2.0 in c:\\users\\pc\\anaconda3\\envs\\pytorch_study\\lib\\site-packages (from matplotlib>=3.1.1->matplot) (8.1.0)\n",
      "Requirement already satisfied: python-dateutil>=2.1 in c:\\users\\pc\\anaconda3\\envs\\pytorch_study\\lib\\site-packages (from matplotlib>=3.1.1->matplot) (2.8.1)\n",
      "Collecting cycler>=0.10\n",
      "  Downloading cycler-0.10.0-py2.py3-none-any.whl (6.5 kB)\n",
      "Requirement already satisfied: six in c:\\users\\pc\\anaconda3\\envs\\pytorch_study\\lib\\site-packages (from cycler>=0.10->matplotlib>=3.1.1->matplot) (1.15.0)\n",
      "Collecting kiwisolver>=1.0.1\n",
      "  Downloading kiwisolver-1.3.1-cp37-cp37m-win_amd64.whl (51 kB)\n",
      "Collecting pyloco>=0.0.134\n",
      "  Downloading pyloco-0.0.139-py2.py3-none-any.whl (60 kB)\n",
      "Collecting SimpleWebSocketServer\n",
      "  Downloading SimpleWebsocketServer-0.1.1.tar.gz (8.0 kB)\n",
      "Collecting twine\n",
      "  Downloading twine-3.3.0-py3-none-any.whl (34 kB)\n",
      "Requirement already satisfied: colorama>=0.4.3 in c:\\users\\pc\\anaconda3\\envs\\pytorch_study\\lib\\site-packages (from twine->pyloco>=0.0.134->matplot) (0.4.4)\n",
      "Requirement already satisfied: requests>=2.20 in c:\\users\\pc\\anaconda3\\envs\\pytorch_study\\lib\\site-packages (from twine->pyloco>=0.0.134->matplot) (2.25.1)\n",
      "Requirement already satisfied: importlib-metadata in c:\\users\\pc\\anaconda3\\envs\\pytorch_study\\lib\\site-packages (from twine->pyloco>=0.0.134->matplot) (2.0.0)\n",
      "Requirement already satisfied: setuptools>=0.7.0 in c:\\users\\pc\\anaconda3\\envs\\pytorch_study\\lib\\site-packages (from twine->pyloco>=0.0.134->matplot) (51.1.2.post20210112)\n",
      "Collecting keyring>=15.1\n",
      "  Downloading keyring-22.0.1-py3-none-any.whl (32 kB)\n",
      "Requirement already satisfied: zipp>=0.5 in c:\\users\\pc\\anaconda3\\envs\\pytorch_study\\lib\\site-packages (from importlib-metadata->twine->pyloco>=0.0.134->matplot) (3.4.0)\n",
      "Collecting pkginfo>=1.4.2\n",
      "  Downloading pkginfo-1.7.0-py2.py3-none-any.whl (25 kB)\n",
      "Collecting pywin32-ctypes!=0.1.0,!=0.1.1\n",
      "  Downloading pywin32_ctypes-0.2.0-py2.py3-none-any.whl (28 kB)\n",
      "Collecting readme-renderer>=21.0\n",
      "  Downloading readme_renderer-28.0-py2.py3-none-any.whl (15 kB)\n",
      "Requirement already satisfied: Pygments>=2.5.1 in c:\\users\\pc\\anaconda3\\envs\\pytorch_study\\lib\\site-packages (from readme-renderer>=21.0->twine->pyloco>=0.0.134->matplot) (2.7.4)\n",
      "Requirement already satisfied: bleach>=2.1.0 in c:\\users\\pc\\anaconda3\\envs\\pytorch_study\\lib\\site-packages (from readme-renderer>=21.0->twine->pyloco>=0.0.134->matplot) (3.2.1)Note: you may need to restart the kernel to use updated packages.\n",
      "\n",
      "Requirement already satisfied: packaging in c:\\users\\pc\\anaconda3\\envs\\pytorch_study\\lib\\site-packages (from bleach>=2.1.0->readme-renderer>=21.0->twine->pyloco>=0.0.134->matplot) (20.8)\n",
      "Requirement already satisfied: webencodings in c:\\users\\pc\\anaconda3\\envs\\pytorch_study\\lib\\site-packages (from bleach>=2.1.0->readme-renderer>=21.0->twine->pyloco>=0.0.134->matplot) (0.5.1)\n",
      "Collecting docutils>=0.13.1\n",
      "  Downloading docutils-0.16-py2.py3-none-any.whl (548 kB)\n",
      "Requirement already satisfied: chardet<5,>=3.0.2 in c:\\users\\pc\\anaconda3\\envs\\pytorch_study\\lib\\site-packages (from requests>=2.20->twine->pyloco>=0.0.134->matplot) (4.0.0)\n",
      "Requirement already satisfied: certifi>=2017.4.17 in c:\\users\\pc\\anaconda3\\envs\\pytorch_study\\lib\\site-packages (from requests>=2.20->twine->pyloco>=0.0.134->matplot) (2020.12.5)\n",
      "Requirement already satisfied: urllib3<1.27,>=1.21.1 in c:\\users\\pc\\anaconda3\\envs\\pytorch_study\\lib\\site-packages (from requests>=2.20->twine->pyloco>=0.0.134->matplot) (1.26.3)\n",
      "Requirement already satisfied: idna<3,>=2.5 in c:\\users\\pc\\anaconda3\\envs\\pytorch_study\\lib\\site-packages (from requests>=2.20->twine->pyloco>=0.0.134->matplot) (2.10)\n",
      "Collecting requests-toolbelt!=0.9.0,>=0.8.0\n",
      "  Downloading requests_toolbelt-0.9.1-py2.py3-none-any.whl (54 kB)\n",
      "Collecting rfc3986>=1.4.0\n",
      "  Downloading rfc3986-1.4.0-py2.py3-none-any.whl (31 kB)\n",
      "Collecting tqdm>=4.14\n",
      "  Downloading tqdm-4.56.0-py2.py3-none-any.whl (72 kB)\n",
      "Collecting typing\n",
      "  Downloading typing-3.7.4.3.tar.gz (78 kB)\n",
      "Collecting ushlex\n",
      "  Downloading ushlex-0.99.1.tar.gz (4.7 kB)\n",
      "Collecting websocket-client\n",
      "  Downloading websocket_client-0.57.0-py2.py3-none-any.whl (200 kB)\n",
      "Building wheels for collected packages: SimpleWebSocketServer, typing, ushlex\n",
      "  Building wheel for SimpleWebSocketServer (setup.py): started\n",
      "  Building wheel for SimpleWebSocketServer (setup.py): finished with status 'done'\n",
      "  Created wheel for SimpleWebSocketServer: filename=SimpleWebSocketServer-0.1.1-py3-none-any.whl size=9492 sha256=c62bf4a02df9c39e8d040886ae347ffe5567c98503ffbd17bba1f6a56e075662\n",
      "  Stored in directory: c:\\users\\pc\\appdata\\local\\pip\\cache\\wheels\\6f\\63\\c0\\9f45bae84b1cb10177012cc98786d017338ff1a458536a15b6\n",
      "  Building wheel for typing (setup.py): started\n",
      "  Building wheel for typing (setup.py): finished with status 'done'\n",
      "  Created wheel for typing: filename=typing-3.7.4.3-py3-none-any.whl size=26308 sha256=df37ce6496e3933bdd29168a10445e31bea55bc13d672faa2456be56bb991b28\n",
      "  Stored in directory: c:\\users\\pc\\appdata\\local\\pip\\cache\\wheels\\35\\f3\\15\\01aa6571f0a72ee6ae7b827c1491c37a1f72d686fd22b43b0e\n",
      "  Building wheel for ushlex (setup.py): started\n",
      "  Building wheel for ushlex (setup.py): finished with status 'done'\n",
      "  Created wheel for ushlex: filename=ushlex-0.99.1-py3-none-any.whl size=4415 sha256=508962941530a003cf4cecff0291925cd384a28076acd50f5cae80d762fe5bfe\n",
      "  Stored in directory: c:\\users\\pc\\appdata\\local\\pip\\cache\\wheels\\58\\4f\\92\\a0da009aa0ef20cdc34a4f07e7e165569b97f5e3715bb4ae40\n",
      "Successfully built SimpleWebSocketServer typing ushlex\n",
      "Installing collected packages: pywin32-ctypes, docutils, tqdm, rfc3986, requests-toolbelt, readme-renderer, pkginfo, keyring, websocket-client, ushlex, typing, twine, SimpleWebSocketServer, kiwisolver, cycler, pyloco, matplotlib, matplot\n",
      "Successfully installed SimpleWebSocketServer-0.1.1 cycler-0.10.0 docutils-0.16 keyring-22.0.1 kiwisolver-1.3.1 matplot-0.1.9 matplotlib-3.3.3 pkginfo-1.7.0 pyloco-0.0.139 pywin32-ctypes-0.2.0 readme-renderer-28.0 requests-toolbelt-0.9.1 rfc3986-1.4.0 tqdm-4.56.0 twine-3.3.0 typing-3.7.4.3 ushlex-0.99.1 websocket-client-0.57.0\n"
     ]
    }
   ],
   "source": [
    "pip install matplot"
   ]
  },
  {
   "cell_type": "code",
   "execution_count": 6,
   "id": "large-bangladesh",
   "metadata": {},
   "outputs": [
    {
     "name": "stdout",
     "output_type": "stream",
     "text": [
      "Requirement already satisfied: matplotlib in c:\\users\\pc\\anaconda3\\envs\\pytorch_study\\lib\\site-packages (3.3.3)\n",
      "Requirement already satisfied: cycler>=0.10 in c:\\users\\pc\\anaconda3\\envs\\pytorch_study\\lib\\site-packages (from matplotlib) (0.10.0)\n",
      "Requirement already satisfied: python-dateutil>=2.1 in c:\\users\\pc\\anaconda3\\envs\\pytorch_study\\lib\\site-packages (from matplotlib) (2.8.1)\n",
      "Requirement already satisfied: kiwisolver>=1.0.1 in c:\\users\\pc\\anaconda3\\envs\\pytorch_study\\lib\\site-packages (from matplotlib) (1.3.1)\n",
      "Requirement already satisfied: pillow>=6.2.0 in c:\\users\\pc\\anaconda3\\envs\\pytorch_study\\lib\\site-packages (from matplotlib) (8.1.0)\n",
      "Requirement already satisfied: pyparsing!=2.0.4,!=2.1.2,!=2.1.6,>=2.0.3 in c:\\users\\pc\\anaconda3\\envs\\pytorch_study\\lib\\site-packages (from matplotlib) (2.4.7)\n",
      "Requirement already satisfied: numpy>=1.15 in c:\\users\\pc\\anaconda3\\envs\\pytorch_study\\lib\\site-packages (from matplotlib) (1.19.5)\n",
      "Requirement already satisfied: six in c:\\users\\pc\\anaconda3\\envs\\pytorch_study\\lib\\site-packages (from cycler>=0.10->matplotlib) (1.15.0)\n",
      "Note: you may need to restart the kernel to use updated packages.\n"
     ]
    }
   ],
   "source": [
    "pip install matplotlib"
   ]
  },
  {
   "cell_type": "code",
   "execution_count": 7,
   "id": "classical-trance",
   "metadata": {},
   "outputs": [],
   "source": [
    "import torch \n",
    "import numpy as np \n",
    "import pandas as pd\n",
    "\n",
    "import matplotlib.pyplot as plt\n",
    "%matplotlib inline  "
   ]
  },
  {
   "cell_type": "code",
   "execution_count": 8,
   "id": "twelve-undergraduate",
   "metadata": {},
   "outputs": [
    {
     "data": {
      "text/plain": [
       "'1.7.1+cpu'"
      ]
     },
     "execution_count": 8,
     "metadata": {},
     "output_type": "execute_result"
    }
   ],
   "source": [
    "torch.__version__\n"
   ]
  },
  {
   "cell_type": "code",
   "execution_count": 9,
   "id": "loaded-array",
   "metadata": {},
   "outputs": [],
   "source": [
    "def plotVec(vectors):\n",
    "    ax = plt.axes()\n",
    "    \n",
    "    #draw the vectors\n",
    "    for vec in vectors:\n",
    "        ax.arrow(0,0, *vec[\"vector\"],head_width = 0.05, color = vec[\"color\"],head_length = 0.1 )\n",
    "        plt.text(*(vec[\"vector\"] + 0.1), vec[\"name\"])\n",
    "        \n",
    "    plt.ylim(-2,2)\n",
    "    plt.xlim(-2,2)"
   ]
  },
  {
   "cell_type": "code",
   "execution_count": 10,
   "id": "chubby-explosion",
   "metadata": {},
   "outputs": [
    {
     "name": "stdout",
     "output_type": "stream",
     "text": [
      "The dtype of tensor object after converting it to tensor:  torch.int64\n",
      "The type of tensor object after converting it to tensor:  torch.LongTensor\n"
     ]
    }
   ],
   "source": [
    "ints_to_tensor = torch.tensor([0, 1, 2, 3, 4])\n",
    "print(\"The dtype of tensor object after converting it to tensor: \", ints_to_tensor.dtype)\n",
    "print(\"The type of tensor object after converting it to tensor: \", ints_to_tensor.type())"
   ]
  },
  {
   "cell_type": "code",
   "execution_count": 11,
   "id": "authorized-neighbor",
   "metadata": {},
   "outputs": [
    {
     "data": {
      "text/plain": [
       "torch.Tensor"
      ]
     },
     "execution_count": 11,
     "metadata": {},
     "output_type": "execute_result"
    }
   ],
   "source": [
    "type(ints_to_tensor)"
   ]
  },
  {
   "cell_type": "code",
   "execution_count": 12,
   "id": "naval-chaos",
   "metadata": {},
   "outputs": [],
   "source": [
    "liste = [0.0, 1.0, 2.0]\n",
    "float_int_tensor = torch.tensor(liste, dtype= torch.int64)"
   ]
  },
  {
   "cell_type": "code",
   "execution_count": 13,
   "id": "accessible-millennium",
   "metadata": {},
   "outputs": [
    {
     "data": {
      "text/plain": [
       "torch.Tensor"
      ]
     },
     "execution_count": 13,
     "metadata": {},
     "output_type": "execute_result"
    }
   ],
   "source": [
    "type(float_int_tensor\n",
    "    )"
   ]
  },
  {
   "cell_type": "code",
   "execution_count": 14,
   "id": "recent-portland",
   "metadata": {},
   "outputs": [
    {
     "data": {
      "text/plain": [
       "'torch.LongTensor'"
      ]
     },
     "execution_count": 14,
     "metadata": {},
     "output_type": "execute_result"
    }
   ],
   "source": [
    "float_int_tensor.type()"
   ]
  },
  {
   "cell_type": "code",
   "execution_count": 15,
   "id": "english-individual",
   "metadata": {},
   "outputs": [
    {
     "name": "stdout",
     "output_type": "stream",
     "text": [
      "tensor([0.1000, 0.2000, 0.3000], dtype=torch.float64)\n"
     ]
    }
   ],
   "source": [
    "p = pd.Series([0.1, 0.2, 0.3])\n",
    "newp = torch.from_numpy(p.values)\n",
    "print(newp)"
   ]
  },
  {
   "cell_type": "code",
   "execution_count": 16,
   "id": "quality-conducting",
   "metadata": {},
   "outputs": [],
   "source": [
    "this = torch.tensor([0.1,0.2])"
   ]
  },
  {
   "cell_type": "code",
   "execution_count": 17,
   "id": "adjusted-modification",
   "metadata": {},
   "outputs": [
    {
     "data": {
      "text/plain": [
       "tensor(0.1000)"
      ]
     },
     "execution_count": 17,
     "metadata": {},
     "output_type": "execute_result"
    }
   ],
   "source": [
    "this[0]\n"
   ]
  },
  {
   "cell_type": "code",
   "execution_count": 18,
   "id": "intense-phone",
   "metadata": {},
   "outputs": [
    {
     "data": {
      "text/plain": [
       "0.10000000149011612"
      ]
     },
     "execution_count": 18,
     "metadata": {},
     "output_type": "execute_result"
    }
   ],
   "source": [
    "this[0].item()"
   ]
  },
  {
   "cell_type": "code",
   "execution_count": 19,
   "id": "christian-cancellation",
   "metadata": {},
   "outputs": [],
   "source": [
    "#리스트로 변환\n",
    "torchtolist =this.tolist()"
   ]
  },
  {
   "cell_type": "code",
   "execution_count": 20,
   "id": "likely-graduate",
   "metadata": {},
   "outputs": [
    {
     "data": {
      "text/plain": [
       "[0.10000000149011612, 0.20000000298023224]"
      ]
     },
     "execution_count": 20,
     "metadata": {},
     "output_type": "execute_result"
    }
   ],
   "source": [
    "torchtolist"
   ]
  },
  {
   "cell_type": "code",
   "execution_count": 21,
   "id": "funky-retrieval",
   "metadata": {},
   "outputs": [
    {
     "ename": "AttributeError",
     "evalue": "'list' object has no attribute 'ToTensor'",
     "output_type": "error",
     "traceback": [
      "\u001b[1;31m---------------------------------------------------------------------------\u001b[0m",
      "\u001b[1;31mAttributeError\u001b[0m                            Traceback (most recent call last)",
      "\u001b[1;32m<ipython-input-21-71f516381224>\u001b[0m in \u001b[0;36m<module>\u001b[1;34m\u001b[0m\n\u001b[1;32m----> 1\u001b[1;33m \u001b[0mtorchtolist\u001b[0m\u001b[1;33m.\u001b[0m\u001b[0mToTensor\u001b[0m\u001b[1;33m(\u001b[0m\u001b[1;33m)\u001b[0m\u001b[1;33m\u001b[0m\u001b[1;33m\u001b[0m\u001b[0m\n\u001b[0m",
      "\u001b[1;31mAttributeError\u001b[0m: 'list' object has no attribute 'ToTensor'"
     ]
    }
   ],
   "source": [
    "torchtolist.ToTensor()\n"
   ]
  },
  {
   "cell_type": "code",
   "execution_count": 22,
   "id": "funded-trance",
   "metadata": {},
   "outputs": [],
   "source": [
    "newt=torch.tensor(torchtolist)"
   ]
  },
  {
   "cell_type": "code",
   "execution_count": 23,
   "id": "built-hamilton",
   "metadata": {},
   "outputs": [
    {
     "data": {
      "text/plain": [
       "tensor([0.1000, 0.2000])"
      ]
     },
     "execution_count": 23,
     "metadata": {},
     "output_type": "execute_result"
    }
   ],
   "source": [
    "newt\n"
   ]
  },
  {
   "cell_type": "code",
   "execution_count": 24,
   "id": "monetary-virus",
   "metadata": {},
   "outputs": [],
   "source": [
    "my_t = torch.tensor([1,2,3,4,5])"
   ]
  },
  {
   "cell_type": "code",
   "execution_count": 25,
   "id": "classified-ebony",
   "metadata": {},
   "outputs": [],
   "source": [
    "my_new_t = my_t.view(1,5)"
   ]
  },
  {
   "cell_type": "code",
   "execution_count": 26,
   "id": "dental-donor",
   "metadata": {},
   "outputs": [
    {
     "data": {
      "text/plain": [
       "tensor([[1, 2, 3, 4, 5]])"
      ]
     },
     "execution_count": 26,
     "metadata": {},
     "output_type": "execute_result"
    }
   ],
   "source": [
    "my_new_t"
   ]
  },
  {
   "cell_type": "code",
   "execution_count": 27,
   "id": "possible-journal",
   "metadata": {},
   "outputs": [
    {
     "data": {
      "text/plain": [
       "tensor([1, 2, 3, 4, 5])"
      ]
     },
     "execution_count": 27,
     "metadata": {},
     "output_type": "execute_result"
    }
   ],
   "source": [
    "my_t"
   ]
  },
  {
   "cell_type": "code",
   "execution_count": 28,
   "id": "functioning-repair",
   "metadata": {},
   "outputs": [
    {
     "data": {
      "text/plain": [
       "tensor([1, 2, 3, 4, 5])"
      ]
     },
     "execution_count": 28,
     "metadata": {},
     "output_type": "execute_result"
    }
   ],
   "source": [
    "my_new_t[0]"
   ]
  },
  {
   "cell_type": "code",
   "execution_count": null,
   "id": "chief-advancement",
   "metadata": {},
   "outputs": [],
   "source": []
  },
  {
   "cell_type": "code",
   "execution_count": 29,
   "id": "isolated-peoples",
   "metadata": {},
   "outputs": [
    {
     "name": "stdout",
     "output_type": "stream",
     "text": [
      "The value on index 0: tensor(0)\n",
      "The value on index 1: tensor(1)\n",
      "The value on index 2: tensor(2)\n",
      "The value on index 3: tensor(3)\n",
      "The value on index 4: tensor(4)\n"
     ]
    }
   ],
   "source": [
    "index_tensor = torch.tensor([0, 1, 2, 3, 4])\n",
    "print(\"The value on index 0:\",index_tensor[0])\n",
    "print(\"The value on index 1:\",index_tensor[1])\n",
    "print(\"The value on index 2:\",index_tensor[2])\n",
    "print(\"The value on index 3:\",index_tensor[3])\n",
    "print(\"The value on index 4:\",index_tensor[4])"
   ]
  },
  {
   "cell_type": "code",
   "execution_count": 30,
   "id": "jewish-holder",
   "metadata": {},
   "outputs": [],
   "source": [
    "torch_sample = torch.tensor([20,1,2,3,4])"
   ]
  },
  {
   "cell_type": "code",
   "execution_count": 31,
   "id": "varying-adult",
   "metadata": {},
   "outputs": [],
   "source": [
    "torch_sample[0] = 100"
   ]
  },
  {
   "cell_type": "code",
   "execution_count": 32,
   "id": "stable-glance",
   "metadata": {},
   "outputs": [
    {
     "data": {
      "text/plain": [
       "tensor([100,   1,   2,   3,   4])"
      ]
     },
     "execution_count": 32,
     "metadata": {},
     "output_type": "execute_result"
    }
   ],
   "source": [
    "torch_sample"
   ]
  },
  {
   "cell_type": "code",
   "execution_count": 33,
   "id": "latest-opinion",
   "metadata": {},
   "outputs": [
    {
     "ename": "NameError",
     "evalue": "name 'tensor_sample' is not defined",
     "output_type": "error",
     "traceback": [
      "\u001b[1;31m---------------------------------------------------------------------------\u001b[0m",
      "\u001b[1;31mNameError\u001b[0m                                 Traceback (most recent call last)",
      "\u001b[1;32m<ipython-input-33-1c30efa757e9>\u001b[0m in \u001b[0;36m<module>\u001b[1;34m\u001b[0m\n\u001b[1;32m----> 1\u001b[1;33m \u001b[0msubset_t\u001b[0m \u001b[1;33m=\u001b[0m \u001b[0mtensor_sample\u001b[0m\u001b[1;33m[\u001b[0m\u001b[1;36m1\u001b[0m\u001b[1;33m:\u001b[0m\u001b[1;36m4\u001b[0m\u001b[1;33m]\u001b[0m\u001b[1;33m\u001b[0m\u001b[1;33m\u001b[0m\u001b[0m\n\u001b[0m",
      "\u001b[1;31mNameError\u001b[0m: name 'tensor_sample' is not defined"
     ]
    }
   ],
   "source": [
    "subset_t = tensor_sample[1:4]"
   ]
  },
  {
   "cell_type": "code",
   "execution_count": 34,
   "id": "spare-boating",
   "metadata": {},
   "outputs": [],
   "source": [
    "subset_t = torch_sample[1:4]"
   ]
  },
  {
   "cell_type": "code",
   "execution_count": 35,
   "id": "supported-ozone",
   "metadata": {},
   "outputs": [
    {
     "data": {
      "text/plain": [
       "tensor([1, 2, 3])"
      ]
     },
     "execution_count": 35,
     "metadata": {},
     "output_type": "execute_result"
    }
   ],
   "source": [
    "subset_t"
   ]
  },
  {
   "cell_type": "code",
   "execution_count": 36,
   "id": "retained-sample",
   "metadata": {},
   "outputs": [
    {
     "ename": "NameError",
     "evalue": "name 'tensor_sample' is not defined",
     "output_type": "error",
     "traceback": [
      "\u001b[1;31m---------------------------------------------------------------------------\u001b[0m",
      "\u001b[1;31mNameError\u001b[0m                                 Traceback (most recent call last)",
      "\u001b[1;32m<ipython-input-36-a2c0d26d8312>\u001b[0m in \u001b[0;36m<module>\u001b[1;34m\u001b[0m\n\u001b[0;32m      1\u001b[0m \u001b[0mselected_indexes\u001b[0m \u001b[1;33m=\u001b[0m \u001b[1;33m[\u001b[0m\u001b[1;36m3\u001b[0m\u001b[1;33m,\u001b[0m \u001b[1;36m4\u001b[0m\u001b[1;33m]\u001b[0m\u001b[1;33m\u001b[0m\u001b[1;33m\u001b[0m\u001b[0m\n\u001b[1;32m----> 2\u001b[1;33m \u001b[0msubset_tensor_sample\u001b[0m \u001b[1;33m=\u001b[0m \u001b[0mtensor_sample\u001b[0m\u001b[1;33m[\u001b[0m\u001b[0mselected_indexes\u001b[0m\u001b[1;33m]\u001b[0m\u001b[1;33m\u001b[0m\u001b[1;33m\u001b[0m\u001b[0m\n\u001b[0m\u001b[0;32m      3\u001b[0m \u001b[0mprint\u001b[0m\u001b[1;33m(\u001b[0m\u001b[1;34m\"The inital tensor_sample\"\u001b[0m\u001b[1;33m,\u001b[0m \u001b[0mtensor_sample\u001b[0m\u001b[1;33m)\u001b[0m\u001b[1;33m\u001b[0m\u001b[1;33m\u001b[0m\u001b[0m\n\u001b[0;32m      4\u001b[0m \u001b[0mprint\u001b[0m\u001b[1;33m(\u001b[0m\u001b[1;34m\"The subset of tensor_sample with the values on index 3 and 4: \"\u001b[0m\u001b[1;33m,\u001b[0m \u001b[0msubset_tensor_sample\u001b[0m\u001b[1;33m)\u001b[0m\u001b[1;33m\u001b[0m\u001b[1;33m\u001b[0m\u001b[0m\n",
      "\u001b[1;31mNameError\u001b[0m: name 'tensor_sample' is not defined"
     ]
    }
   ],
   "source": [
    "selected_indexes = [3, 4]\n",
    "subset_tensor_sample = tensor_sample[selected_indexes]\n",
    "print(\"The inital tensor_sample\", tensor_sample)\n",
    "print(\"The subset of tensor_sample with the values on index 3 and 4: \", subset_tensor_sample)"
   ]
  },
  {
   "cell_type": "code",
   "execution_count": 37,
   "id": "bound-awareness",
   "metadata": {},
   "outputs": [],
   "source": [
    "tensor_sample = torch.tensor([20, 1, 2, 3, 4])"
   ]
  },
  {
   "cell_type": "code",
   "execution_count": 38,
   "id": "modular-census",
   "metadata": {},
   "outputs": [
    {
     "name": "stdout",
     "output_type": "stream",
     "text": [
      "Inital value on index 3 and index 4: tensor([3, 4])\n",
      "Modified tensor: tensor([ 20,   1,   2, 300, 400])\n"
     ]
    }
   ],
   "source": [
    "print(\"Inital value on index 3 and index 4:\", tensor_sample[3:5])\n",
    "tensor_sample[3:5] = torch.tensor([300.0, 400.0])\n",
    "print(\"Modified tensor:\", tensor_sample)"
   ]
  },
  {
   "cell_type": "code",
   "execution_count": 39,
   "id": "romantic-spank",
   "metadata": {},
   "outputs": [
    {
     "ename": "NameError",
     "evalue": "name 'selcted_indexes' is not defined",
     "output_type": "error",
     "traceback": [
      "\u001b[1;31m---------------------------------------------------------------------------\u001b[0m",
      "\u001b[1;31mNameError\u001b[0m                                 Traceback (most recent call last)",
      "\u001b[1;32m<ipython-input-39-eeb67539837b>\u001b[0m in \u001b[0;36m<module>\u001b[1;34m\u001b[0m\n\u001b[0;32m      1\u001b[0m \u001b[0mselected_indexes\u001b[0m \u001b[1;33m=\u001b[0m \u001b[1;33m[\u001b[0m\u001b[1;36m3\u001b[0m\u001b[1;33m,\u001b[0m\u001b[1;36m4\u001b[0m\u001b[1;33m]\u001b[0m\u001b[1;33m\u001b[0m\u001b[1;33m\u001b[0m\u001b[0m\n\u001b[1;32m----> 2\u001b[1;33m \u001b[0msub_t\u001b[0m \u001b[1;33m=\u001b[0m \u001b[0mtensor_sample\u001b[0m\u001b[1;33m[\u001b[0m\u001b[0mselcted_indexes\u001b[0m\u001b[1;33m]\u001b[0m\u001b[1;33m\u001b[0m\u001b[1;33m\u001b[0m\u001b[0m\n\u001b[0m\u001b[0;32m      3\u001b[0m \u001b[0mprint\u001b[0m\u001b[1;33m(\u001b[0m\u001b[0mtensor_sample\u001b[0m\u001b[1;33m)\u001b[0m\u001b[1;33m\u001b[0m\u001b[1;33m\u001b[0m\u001b[0m\n\u001b[0;32m      4\u001b[0m \u001b[0mprint\u001b[0m\u001b[1;33m(\u001b[0m\u001b[1;34m\"선택된 것들 : \"\u001b[0m\u001b[1;33m,\u001b[0m \u001b[0msub_t\u001b[0m\u001b[1;33m)\u001b[0m\u001b[1;33m\u001b[0m\u001b[1;33m\u001b[0m\u001b[0m\n",
      "\u001b[1;31mNameError\u001b[0m: name 'selcted_indexes' is not defined"
     ]
    }
   ],
   "source": [
    "selected_indexes = [3,4]\n",
    "sub_t = tensor_sample[selcted_indexes]\n",
    "print(tensor_sample)\n",
    "print(\"선택된 것들 : \", sub_t)"
   ]
  },
  {
   "cell_type": "code",
   "execution_count": 40,
   "id": "cathedral-bathroom",
   "metadata": {},
   "outputs": [
    {
     "name": "stdout",
     "output_type": "stream",
     "text": [
      "tensor([ 20,   1,   2, 300, 400])\n",
      "선택된 것들 :  tensor([300, 400])\n"
     ]
    }
   ],
   "source": [
    "selected_indexes = [3,4]\n",
    "sub_t = tensor_sample[selected_indexes]\n",
    "print(tensor_sample)\n",
    "print(\"선택된 것들 : \", sub_t)"
   ]
  },
  {
   "cell_type": "code",
   "execution_count": 41,
   "id": "disturbed-logging",
   "metadata": {},
   "outputs": [
    {
     "ename": "SyntaxError",
     "evalue": "invalid syntax (<ipython-input-41-eb95a56160e2>, line 2)",
     "output_type": "error",
     "traceback": [
      "\u001b[1;36m  File \u001b[1;32m\"<ipython-input-41-eb95a56160e2>\"\u001b[1;36m, line \u001b[1;32m2\u001b[0m\n\u001b[1;33m    s = [3:5]\u001b[0m\n\u001b[1;37m          ^\u001b[0m\n\u001b[1;31mSyntaxError\u001b[0m\u001b[1;31m:\u001b[0m invalid syntax\n"
     ]
    }
   ],
   "source": [
    "print(\"처음 텐서들 : \", tensor_sample)\n",
    "s = [3:5]\n",
    "tensor_sample[s] = 10000\n",
    "print(\"하나의 숫자로 초기화된 텐서 장면\", tensor_sample)"
   ]
  },
  {
   "cell_type": "code",
   "execution_count": 42,
   "id": "random-fruit",
   "metadata": {},
   "outputs": [
    {
     "name": "stdout",
     "output_type": "stream",
     "text": [
      "처음 텐서들 :  tensor([ 20,   1,   2, 300, 400])\n",
      "하나의 숫자로 초기화된 텐서 장면 tensor([   20,     1, 10000, 10000, 10000])\n"
     ]
    }
   ],
   "source": [
    "print(\"처음 텐서들 : \", tensor_sample)\n",
    "s = [2,3,4]\n",
    "tensor_sample[s] = 10000\n",
    "print(\"하나의 숫자로 초기화된 텐서 장면\", tensor_sample)"
   ]
  },
  {
   "cell_type": "code",
   "execution_count": 43,
   "id": "intense-breathing",
   "metadata": {},
   "outputs": [
    {
     "ename": "IndexError",
     "evalue": "too many indices for tensor of dimension 1",
     "output_type": "error",
     "traceback": [
      "\u001b[1;31m---------------------------------------------------------------------------\u001b[0m",
      "\u001b[1;31mIndexError\u001b[0m                                Traceback (most recent call last)",
      "\u001b[1;32m<ipython-input-43-a09be10562db>\u001b[0m in \u001b[0;36m<module>\u001b[1;34m\u001b[0m\n\u001b[0;32m      1\u001b[0m \u001b[0mp_tensor\u001b[0m \u001b[1;33m=\u001b[0m \u001b[0mtorch\u001b[0m\u001b[1;33m.\u001b[0m\u001b[0mtensor\u001b[0m\u001b[1;33m(\u001b[0m\u001b[1;33m[\u001b[0m\u001b[1;36m2\u001b[0m\u001b[1;33m,\u001b[0m \u001b[1;36m7\u001b[0m\u001b[1;33m,\u001b[0m \u001b[1;36m3\u001b[0m\u001b[1;33m,\u001b[0m \u001b[1;36m4\u001b[0m\u001b[1;33m,\u001b[0m \u001b[1;36m6\u001b[0m\u001b[1;33m,\u001b[0m \u001b[1;36m2\u001b[0m\u001b[1;33m,\u001b[0m \u001b[1;36m3\u001b[0m\u001b[1;33m,\u001b[0m \u001b[1;36m1\u001b[0m\u001b[1;33m,\u001b[0m \u001b[1;36m2\u001b[0m\u001b[1;33m]\u001b[0m\u001b[1;33m)\u001b[0m\u001b[1;33m\u001b[0m\u001b[1;33m\u001b[0m\u001b[0m\n\u001b[1;32m----> 2\u001b[1;33m \u001b[0mp_tensor\u001b[0m\u001b[1;33m[\u001b[0m\u001b[1;36m1\u001b[0m\u001b[1;33m,\u001b[0m\u001b[1;36m2\u001b[0m\u001b[1;33m,\u001b[0m\u001b[1;36m3\u001b[0m\u001b[1;33m]\u001b[0m \u001b[1;33m=\u001b[0m \u001b[1;36m0\u001b[0m\u001b[1;33m\u001b[0m\u001b[1;33m\u001b[0m\u001b[0m\n\u001b[0m\u001b[0;32m      3\u001b[0m \u001b[0mprint\u001b[0m\u001b[1;33m(\u001b[0m\u001b[1;34m\"바뀐 텐서: \"\u001b[0m\u001b[1;33m,\u001b[0m\u001b[0mp_tensor\u001b[0m\u001b[1;33m)\u001b[0m\u001b[1;33m\u001b[0m\u001b[1;33m\u001b[0m\u001b[0m\n",
      "\u001b[1;31mIndexError\u001b[0m: too many indices for tensor of dimension 1"
     ]
    }
   ],
   "source": [
    "p_tensor = torch.tensor([2, 7, 3, 4, 6, 2, 3, 1, 2])\n",
    "p_tensor[1,2,3] = 0\n",
    "print(\"바뀐 텐서: \",p_tensor)"
   ]
  },
  {
   "cell_type": "code",
   "execution_count": 44,
   "id": "prescribed-queensland",
   "metadata": {},
   "outputs": [
    {
     "name": "stdout",
     "output_type": "stream",
     "text": [
      "인덱스 3,4,7을 0으로 초기화:  tensor([2, 7, 3, 0, 0, 2, 3, 0, 2])\n"
     ]
    }
   ],
   "source": [
    "p_tensor = torch.tensor([2, 7, 3, 4, 6, 2, 3, 1, 2])\n",
    "p_tensor[[3,4,7]] = 0\n",
    "print(\"인덱스 3,4,7을 0으로 초기화: \", p_tensor)"
   ]
  },
  {
   "cell_type": "code",
   "execution_count": 45,
   "id": "satellite-california",
   "metadata": {},
   "outputs": [
    {
     "name": "stdout",
     "output_type": "stream",
     "text": [
      "Tensor example :  tensor([ 1., -1.,  1., -1.])\n"
     ]
    }
   ],
   "source": [
    "#평균과 표준편차\n",
    "math_tensor = torch.tensor([1.0,-1.0,1,-1])\n",
    "print(\"Tensor example : \", math_tensor)"
   ]
  },
  {
   "cell_type": "code",
   "execution_count": 46,
   "id": "referenced-appreciation",
   "metadata": {},
   "outputs": [
    {
     "data": {
      "text/plain": [
       "'torch.FloatTensor'"
      ]
     },
     "execution_count": 46,
     "metadata": {},
     "output_type": "execute_result"
    }
   ],
   "source": [
    "math_tensor.type()"
   ]
  },
  {
   "cell_type": "code",
   "execution_count": 47,
   "id": "chronic-member",
   "metadata": {},
   "outputs": [],
   "source": [
    "mean = math_tensor.mean()"
   ]
  },
  {
   "cell_type": "code",
   "execution_count": 48,
   "id": "optimum-stake",
   "metadata": {},
   "outputs": [
    {
     "data": {
      "text/plain": [
       "tensor(0.)"
      ]
     },
     "execution_count": 48,
     "metadata": {},
     "output_type": "execute_result"
    }
   ],
   "source": [
    "mean"
   ]
  },
  {
   "cell_type": "code",
   "execution_count": 49,
   "id": "historical-wages",
   "metadata": {},
   "outputs": [],
   "source": [
    "standard_deviation = math_tensor.std()"
   ]
  },
  {
   "cell_type": "code",
   "execution_count": 50,
   "id": "ecological-satellite",
   "metadata": {},
   "outputs": [
    {
     "name": "stdout",
     "output_type": "stream",
     "text": [
      "표준편차 :  tensor(1.1547)\n"
     ]
    }
   ],
   "source": [
    "print(\"표준편차 : \", standard_deviation)"
   ]
  },
  {
   "cell_type": "code",
   "execution_count": 51,
   "id": "virgin-latino",
   "metadata": {},
   "outputs": [],
   "source": [
    "max_min_tensor = torch.tensor([1,1,3,5,5])\n",
    "max_this = max_min_tensor.max()"
   ]
  },
  {
   "cell_type": "code",
   "execution_count": 52,
   "id": "relative-divide",
   "metadata": {},
   "outputs": [
    {
     "data": {
      "text/plain": [
       "tensor(5)"
      ]
     },
     "execution_count": 52,
     "metadata": {},
     "output_type": "execute_result"
    }
   ],
   "source": [
    "max_this"
   ]
  },
  {
   "cell_type": "code",
   "execution_count": 53,
   "id": "included-inquiry",
   "metadata": {},
   "outputs": [
    {
     "data": {
      "text/plain": [
       "tensor(1)"
      ]
     },
     "execution_count": 53,
     "metadata": {},
     "output_type": "execute_result"
    }
   ],
   "source": [
    "max_min_tensor.min()\n"
   ]
  },
  {
   "cell_type": "code",
   "execution_count": 54,
   "id": "parallel-proof",
   "metadata": {},
   "outputs": [
    {
     "name": "stdout",
     "output_type": "stream",
     "text": [
      "tensor([ 0.0000e+00,  1.0000e+00, -8.7423e-08])\n"
     ]
    }
   ],
   "source": [
    "#sin함수\n",
    "pi_tensor = torch.tensor([0,np.pi/2,np.pi])\n",
    "sin = torch.sin(pi_tensor)\n",
    "print(sin)"
   ]
  },
  {
   "cell_type": "code",
   "execution_count": 55,
   "id": "taken-amplifier",
   "metadata": {},
   "outputs": [],
   "source": [
    "#sin은 어떤 텐서를 인자로 받아서 그에 대한 sin 함수 연산결과를 반환한다는 점에서\n",
    "#max(), std(), min(), mean() 들과 다르다\n"
   ]
  },
  {
   "cell_type": "code",
   "execution_count": 56,
   "id": "polar-charm",
   "metadata": {},
   "outputs": [
    {
     "name": "stdout",
     "output_type": "stream",
     "text": [
      "First try on linspace tensor([-2., -1.,  0.,  1.,  2.])\n"
     ]
    }
   ],
   "source": [
    "#linspace()사용\n",
    "len_5_tensor = torch.linspace(-2,2,steps=5)\n",
    "print('First try on linspace', len_5_tensor)"
   ]
  },
  {
   "cell_type": "code",
   "execution_count": 57,
   "id": "civilian-robin",
   "metadata": {},
   "outputs": [
    {
     "ename": "SyntaxError",
     "evalue": "invalid syntax (<ipython-input-57-12f160ea7ae2>, line 3)",
     "output_type": "error",
     "traceback": [
      "\u001b[1;36m  File \u001b[1;32m\"<ipython-input-57-12f160ea7ae2>\"\u001b[1;36m, line \u001b[1;32m3\u001b[0m\n\u001b[1;33m    len_9_tensor = torch.linspace[(-2,2),steps=9]\u001b[0m\n\u001b[1;37m                                              ^\u001b[0m\n\u001b[1;31mSyntaxError\u001b[0m\u001b[1;31m:\u001b[0m invalid syntax\n"
     ]
    }
   ],
   "source": [
    "#linspace는 주어진 텐서 구간에서 몇단계로 나눠서 텐서를 생성한다\n",
    "#즉, 린스페이스는 -2,2구간에서 steps=5이면 그만큼 쪼개서 길이 가 5인 텐서를 생성해서 돌려준다\n",
    "len_9_tensor = torch.linspace[(-2,2),steps=9]\n",
    "print(len_9_tensor)"
   ]
  },
  {
   "cell_type": "code",
   "execution_count": 58,
   "id": "scheduled-shirt",
   "metadata": {},
   "outputs": [
    {
     "ename": "TypeError",
     "evalue": "tensor() takes 1 positional argument but 2 were given",
     "output_type": "error",
     "traceback": [
      "\u001b[1;31m---------------------------------------------------------------------------\u001b[0m",
      "\u001b[1;31mTypeError\u001b[0m                                 Traceback (most recent call last)",
      "\u001b[1;32m<ipython-input-58-bfa7fd824966>\u001b[0m in \u001b[0;36m<module>\u001b[1;34m\u001b[0m\n\u001b[0;32m      1\u001b[0m \u001b[1;31m#아 linspace는 텐서를 입력받는 게 아니라, ()괄호안에 구간 정보만 -2,2하고 steps정보만 넣어준다\u001b[0m\u001b[1;33m\u001b[0m\u001b[1;33m\u001b[0m\u001b[1;33m\u001b[0m\u001b[0m\n\u001b[1;32m----> 2\u001b[1;33m \u001b[0mlen_9t\u001b[0m \u001b[1;33m=\u001b[0m \u001b[0mtorch\u001b[0m\u001b[1;33m.\u001b[0m\u001b[0mtensor\u001b[0m\u001b[1;33m(\u001b[0m\u001b[1;33m-\u001b[0m\u001b[1;36m2\u001b[0m\u001b[1;33m,\u001b[0m\u001b[1;36m2\u001b[0m\u001b[1;33m,\u001b[0m\u001b[0msteps\u001b[0m\u001b[1;33m=\u001b[0m\u001b[1;36m9\u001b[0m\u001b[1;33m)\u001b[0m\u001b[1;33m\u001b[0m\u001b[1;33m\u001b[0m\u001b[0m\n\u001b[0m\u001b[0;32m      3\u001b[0m \u001b[0mprint\u001b[0m\u001b[1;33m(\u001b[0m\u001b[0mlen_9t\u001b[0m\u001b[1;33m)\u001b[0m\u001b[1;33m\u001b[0m\u001b[1;33m\u001b[0m\u001b[0m\n",
      "\u001b[1;31mTypeError\u001b[0m: tensor() takes 1 positional argument but 2 were given"
     ]
    }
   ],
   "source": [
    "#아 linspace는 텐서를 입력받는 게 아니라, ()괄호안에 구간 정보만 -2,2하고 steps정보만 넣어준다\n",
    "len_9t = torch.tensor(-2,2,steps=9)\n",
    "print(len_9t)"
   ]
  },
  {
   "cell_type": "code",
   "execution_count": 59,
   "id": "passing-simulation",
   "metadata": {},
   "outputs": [
    {
     "name": "stdout",
     "output_type": "stream",
     "text": [
      "tensor([-2.0000, -1.5000, -1.0000, -0.5000,  0.0000,  0.5000,  1.0000,  1.5000,\n",
      "         2.0000])\n"
     ]
    }
   ],
   "source": [
    "a = torch.linspace(-2,2,steps=9)\n",
    "print(a)"
   ]
  },
  {
   "cell_type": "code",
   "execution_count": 60,
   "id": "broad-orleans",
   "metadata": {},
   "outputs": [
    {
     "ename": "SyntaxError",
     "evalue": "unexpected EOF while parsing (<ipython-input-60-d083c4e26043>, line 4)",
     "output_type": "error",
     "traceback": [
      "\u001b[1;36m  File \u001b[1;32m\"<ipython-input-60-d083c4e26043>\"\u001b[1;36m, line \u001b[1;32m4\u001b[0m\n\u001b[1;33m    plt.plot(pi_tensor.numpy(), sin_result.numpy()\u001b[0m\n\u001b[1;37m                                                  ^\u001b[0m\n\u001b[1;31mSyntaxError\u001b[0m\u001b[1;31m:\u001b[0m unexpected EOF while parsing\n"
     ]
    }
   ],
   "source": [
    "#텐서를 0부터 360도 로 구현\n",
    "pi_tensor = torch.linspace(0,2*np.pi,100)\n",
    "sin_result = torch.sin(pi_tensor)\n",
    "plt.plot(pi_tensor.numpy(), sin_result.numpy()"
   ]
  },
  {
   "cell_type": "code",
   "execution_count": 61,
   "id": "martial-tourism",
   "metadata": {},
   "outputs": [
    {
     "data": {
      "text/plain": [
       "[<matplotlib.lines.Line2D at 0x20678a8ec08>]"
      ]
     },
     "execution_count": 61,
     "metadata": {},
     "output_type": "execute_result"
    },
    {
     "data": {
      "image/png": "[encoded data removed]",
      "text/plain": [
       "<Figure size 432x288 with 1 Axes>"
      ]
     },
     "metadata": {
      "needs_background": "light"
     },
     "output_type": "display_data"
    }
   ],
   "source": [
    "#텐서를 0부터 360도 로 구현\n",
    "pi_tensor = torch.linspace(0,2*np.pi,100)\n",
    "sin_result = torch.sin(pi_tensor)\n",
    "plt.plot(pi_tensor.numpy(), sin_result.numpy())"
   ]
  },
  {
   "cell_type": "code",
   "execution_count": 63,
   "id": "accurate-collection",
   "metadata": {},
   "outputs": [
    {
     "name": "stdout",
     "output_type": "stream",
     "text": [
      "최댓값 :  tensor(1.5708)\n",
      "최솟값 :  tensor(0.)\n"
     ]
    },
    {
     "data": {
      "text/plain": [
       "[<matplotlib.lines.Line2D at 0x20678d23a88>]"
      ]
     },
     "execution_count": 63,
     "metadata": {},
     "output_type": "execute_result"
    },
    {
     "data": {
      "image/png": "[encoded data removed]",
      "text/plain": [
       "<Figure size 432x288 with 1 Axes>"
      ]
     },
     "metadata": {
      "needs_background": "light"
     },
     "output_type": "display_data"
    }
   ],
   "source": [
    "tensor_25 = torch.linspace(0,0.5*np.pi,steps=25)\n",
    "print('최댓값 : ',tensor_25.max())\n",
    "print(\"최솟값 : \", tensor_25.min())\n",
    "plt.plot(tensor_25.numpy(),torch.sin(tensor_25).numpy())"
   ]
  },
  {
   "cell_type": "code",
   "execution_count": 64,
   "id": "increasing-description",
   "metadata": {},
   "outputs": [
    {
     "data": {
      "text/plain": [
       "tensor([1, 1])"
      ]
     },
     "execution_count": 64,
     "metadata": {},
     "output_type": "execute_result"
    }
   ],
   "source": [
    "#Tensor Operations\n",
    "u = torch.tensor([1,0])\n",
    "v = torch.tensor([0,1])\n",
    "w = u+v\n",
    "w"
   ]
  },
  {
   "cell_type": "code",
   "execution_count": 65,
   "id": "amino-campaign",
   "metadata": {},
   "outputs": [
    {
     "data": {
      "image/png": "[encoded data removed]",
      "text/plain": [
       "<Figure size 432x288 with 1 Axes>"
      ]
     },
     "metadata": {
      "needs_background": "light"
     },
     "output_type": "display_data"
    }
   ],
   "source": [
    "plotVec([\n",
    "    {\"vector\": u.numpy(), \"name\": 'u', \"color\": 'r'},\n",
    "    {\"vector\": v.numpy(), \"name\": 'v', \"color\": 'b'},\n",
    "    {\"vector\": w.numpy(), \"name\": 'w', \"color\": 'g'}\n",
    "])"
   ]
  },
  {
   "cell_type": "code",
   "execution_count": 66,
   "id": "large-geography",
   "metadata": {},
   "outputs": [],
   "source": [
    "# 구현 했던 plotVec을 이용하니 텐서의 넘파이버전을 인장로 넣어서 돌리니 그래프를 표시할 수 있었다."
   ]
  },
  {
   "cell_type": "code",
   "execution_count": 67,
   "id": "agreed-vampire",
   "metadata": {},
   "outputs": [
    {
     "data": {
      "text/plain": [
       "tensor([2, 3, 4, 0])"
      ]
     },
     "execution_count": 67,
     "metadata": {},
     "output_type": "execute_result"
    }
   ],
   "source": [
    "u = torch.tensor([1,2,3,-1])\n",
    "r=u + 1\n",
    "r"
   ]
  },
  {
   "cell_type": "code",
   "execution_count": 68,
   "id": "anonymous-collection",
   "metadata": {},
   "outputs": [
    {
     "data": {
      "text/plain": [
       "tensor([2, 4, 6])"
      ]
     },
     "execution_count": 68,
     "metadata": {},
     "output_type": "execute_result"
    }
   ],
   "source": [
    "k = torch.tensor([1,2,3])\n",
    "q = k*2\n",
    "q"
   ]
  },
  {
   "cell_type": "code",
   "execution_count": 69,
   "id": "chinese-lloyd",
   "metadata": {},
   "outputs": [
    {
     "data": {
      "text/plain": [
       "tensor([2, 6])"
      ]
     },
     "execution_count": 69,
     "metadata": {},
     "output_type": "execute_result"
    }
   ],
   "source": [
    "#multiply\n",
    "u = torch.tensor([1,2])\n",
    "v = torch.tensor([2,3])\n",
    "u*v"
   ]
  },
  {
   "cell_type": "code",
   "execution_count": 70,
   "id": "satisfied-stake",
   "metadata": {},
   "outputs": [
    {
     "data": {
      "text/plain": [
       "tensor(8)"
      ]
     },
     "execution_count": 70,
     "metadata": {},
     "output_type": "execute_result"
    }
   ],
   "source": [
    "torch.dot(u,v)"
   ]
  },
  {
   "cell_type": "code",
   "execution_count": 71,
   "id": "decent-scott",
   "metadata": {},
   "outputs": [],
   "source": [
    "#dot은 내적연산으로 행렬 연산 하는 식으로 1*2 + 2*3으로 dot연산을 해주는 것이다"
   ]
  },
  {
   "cell_type": "code",
   "execution_count": 72,
   "id": "divided-reservoir",
   "metadata": {},
   "outputs": [
    {
     "name": "stdout",
     "output_type": "stream",
     "text": [
      "dot연산 한 것 :  tensor(0)\n"
     ]
    },
    {
     "data": {
      "image/png": "[encoded data removed]",
      "text/plain": [
       "<Figure size 432x288 with 1 Axes>"
      ]
     },
     "metadata": {
      "needs_background": "light"
     },
     "output_type": "display_data"
    }
   ],
   "source": [
    "alist = [-1,1]\n",
    "blist = [1,1]\n",
    "u = torch.tensor(alist)\n",
    "v = torch.tensor(blist)\n",
    "plotVec([{\"vector\": u.numpy(), \"name\": 'u', \"color\": 'r'},\n",
    "    {\"vector\": v.numpy(), \"name\": 'v', \"color\": 'b'},\n",
    "        ])\n",
    "print(\"dot연산 한 것 : \", torch.dot(u,v))"
   ]
  },
  {
   "cell_type": "code",
   "execution_count": null,
   "id": "portable-medicine",
   "metadata": {},
   "outputs": [],
   "source": []
  }
 ],
 "metadata": {
  "kernelspec": {
   "display_name": "Python 3",
   "language": "python",
   "name": "python3"
  },
  "language_info": {
   "codemirror_mode": {
    "name": "ipython",
    "version": 3
   },
   "file_extension": ".py",
   "mimetype": "text/x-python",
   "name": "python",
   "nbconvert_exporter": "python",
   "pygments_lexer": "ipython3",
   "version": "3.7.9"
  }
 },
 "nbformat": 4,
 "nbformat_minor": 5
}
