{
 "cells": [
  {
   "cell_type": "code",
   "execution_count": 1,
   "id": "employed-minneapolis",
   "metadata": {},
   "outputs": [
    {
     "data": {
      "text/plain": [
       "<torch._C.Generator at 0x22ce2227bb0>"
      ]
     },
     "execution_count": 1,
     "metadata": {},
     "output_type": "execute_result"
    }
   ],
   "source": [
    "import torch\n",
    "from torch.utils.data import Dataset\n",
    "torch.manual_seed(1)"
   ]
  },
  {
   "cell_type": "code",
   "execution_count": 3,
   "id": "anonymous-organ",
   "metadata": {},
   "outputs": [],
   "source": [
    "class toy_set(Dataset):\n",
    "    def __init__(self, length = 100, transform = None):\n",
    "        self.len = length\n",
    "        self.x = 2 * torch.ones(length, 2)\n",
    "        self.y = torch.ones(length, 1)\n",
    "        self.transform = transform\n",
    "        \n",
    "    def __getitem__(self, index):\n",
    "        sample = self.x[index], self.y[index]\n",
    "        if self.transform:\n",
    "            sample = self.transform(sample)\n",
    "        return sample\n",
    "    \n",
    "    def __len__(self):\n",
    "        return self.len\n",
    "    "
   ]
  },
  {
   "cell_type": "code",
   "execution_count": 4,
   "id": "beneficial-archive",
   "metadata": {},
   "outputs": [
    {
     "name": "stdout",
     "output_type": "stream",
     "text": [
      " 내 토이셋 객체는?  <__main__.toy_set object at 0x0000022CFAEFDF48>\n",
      "Value on index of our toy_set object:  (tensor([2., 2.]), tensor([1.]))\n",
      "Our toy_set length:  100\n"
     ]
    }
   ],
   "source": [
    "our_dataset = toy_set()\n",
    "print(\" 내 토이셋 객체는? \",our_dataset)\n",
    "print(\"Value on index of our toy_set object: \",our_dataset[0] )\n",
    "print(\"Our toy_set length: \",len(our_dataset))"
   ]
  },
  {
   "cell_type": "code",
   "execution_count": 5,
   "id": "proprietary-thesaurus",
   "metadata": {},
   "outputs": [
    {
     "name": "stdout",
     "output_type": "stream",
     "text": [
      "index:  0 ; x: tensor([2., 2.]) ; y: tensor([1.])\n",
      "index:  1 ; x: tensor([2., 2.]) ; y: tensor([1.])\n",
      "index:  2 ; x: tensor([2., 2.]) ; y: tensor([1.])\n"
     ]
    }
   ],
   "source": [
    "for i in range(3):\n",
    "    x, y = our_dataset[i]\n",
    "    print(\"index: \",i, '; x:',x,'; y:',y)"
   ]
  },
  {
   "cell_type": "code",
   "execution_count": 6,
   "id": "renewable-healthcare",
   "metadata": {},
   "outputs": [
    {
     "name": "stdout",
     "output_type": "stream",
     "text": [
      "x눈  tensor([2., 2.]) y는  tensor([1.])\n",
      "x눈  tensor([2., 2.]) y는  tensor([1.])\n",
      "x눈  tensor([2., 2.]) y는  tensor([1.])\n",
      "x눈  tensor([2., 2.]) y는  tensor([1.])\n",
      "x눈  tensor([2., 2.]) y는  tensor([1.])\n",
      "x눈  tensor([2., 2.]) y는  tensor([1.])\n",
      "x눈  tensor([2., 2.]) y는  tensor([1.])\n",
      "x눈  tensor([2., 2.]) y는  tensor([1.])\n",
      "x눈  tensor([2., 2.]) y는  tensor([1.])\n",
      "x눈  tensor([2., 2.]) y는  tensor([1.])\n",
      "x눈  tensor([2., 2.]) y는  tensor([1.])\n",
      "x눈  tensor([2., 2.]) y는  tensor([1.])\n",
      "x눈  tensor([2., 2.]) y는  tensor([1.])\n",
      "x눈  tensor([2., 2.]) y는  tensor([1.])\n",
      "x눈  tensor([2., 2.]) y는  tensor([1.])\n",
      "x눈  tensor([2., 2.]) y는  tensor([1.])\n",
      "x눈  tensor([2., 2.]) y는  tensor([1.])\n",
      "x눈  tensor([2., 2.]) y는  tensor([1.])\n",
      "x눈  tensor([2., 2.]) y는  tensor([1.])\n",
      "x눈  tensor([2., 2.]) y는  tensor([1.])\n",
      "x눈  tensor([2., 2.]) y는  tensor([1.])\n",
      "x눈  tensor([2., 2.]) y는  tensor([1.])\n",
      "x눈  tensor([2., 2.]) y는  tensor([1.])\n",
      "x눈  tensor([2., 2.]) y는  tensor([1.])\n",
      "x눈  tensor([2., 2.]) y는  tensor([1.])\n",
      "x눈  tensor([2., 2.]) y는  tensor([1.])\n",
      "x눈  tensor([2., 2.]) y는  tensor([1.])\n",
      "x눈  tensor([2., 2.]) y는  tensor([1.])\n",
      "x눈  tensor([2., 2.]) y는  tensor([1.])\n",
      "x눈  tensor([2., 2.]) y는  tensor([1.])\n",
      "x눈  tensor([2., 2.]) y는  tensor([1.])\n",
      "x눈  tensor([2., 2.]) y는  tensor([1.])\n",
      "x눈  tensor([2., 2.]) y는  tensor([1.])\n",
      "x눈  tensor([2., 2.]) y는  tensor([1.])\n",
      "x눈  tensor([2., 2.]) y는  tensor([1.])\n",
      "x눈  tensor([2., 2.]) y는  tensor([1.])\n",
      "x눈  tensor([2., 2.]) y는  tensor([1.])\n",
      "x눈  tensor([2., 2.]) y는  tensor([1.])\n",
      "x눈  tensor([2., 2.]) y는  tensor([1.])\n",
      "x눈  tensor([2., 2.]) y는  tensor([1.])\n",
      "x눈  tensor([2., 2.]) y는  tensor([1.])\n",
      "x눈  tensor([2., 2.]) y는  tensor([1.])\n",
      "x눈  tensor([2., 2.]) y는  tensor([1.])\n",
      "x눈  tensor([2., 2.]) y는  tensor([1.])\n",
      "x눈  tensor([2., 2.]) y는  tensor([1.])\n",
      "x눈  tensor([2., 2.]) y는  tensor([1.])\n",
      "x눈  tensor([2., 2.]) y는  tensor([1.])\n",
      "x눈  tensor([2., 2.]) y는  tensor([1.])\n",
      "x눈  tensor([2., 2.]) y는  tensor([1.])\n",
      "x눈  tensor([2., 2.]) y는  tensor([1.])\n",
      "x눈  tensor([2., 2.]) y는  tensor([1.])\n",
      "x눈  tensor([2., 2.]) y는  tensor([1.])\n",
      "x눈  tensor([2., 2.]) y는  tensor([1.])\n",
      "x눈  tensor([2., 2.]) y는  tensor([1.])\n",
      "x눈  tensor([2., 2.]) y는  tensor([1.])\n",
      "x눈  tensor([2., 2.]) y는  tensor([1.])\n",
      "x눈  tensor([2., 2.]) y는  tensor([1.])\n",
      "x눈  tensor([2., 2.]) y는  tensor([1.])\n",
      "x눈  tensor([2., 2.]) y는  tensor([1.])\n",
      "x눈  tensor([2., 2.]) y는  tensor([1.])\n",
      "x눈  tensor([2., 2.]) y는  tensor([1.])\n",
      "x눈  tensor([2., 2.]) y는  tensor([1.])\n",
      "x눈  tensor([2., 2.]) y는  tensor([1.])\n",
      "x눈  tensor([2., 2.]) y는  tensor([1.])\n",
      "x눈  tensor([2., 2.]) y는  tensor([1.])\n",
      "x눈  tensor([2., 2.]) y는  tensor([1.])\n",
      "x눈  tensor([2., 2.]) y는  tensor([1.])\n",
      "x눈  tensor([2., 2.]) y는  tensor([1.])\n",
      "x눈  tensor([2., 2.]) y는  tensor([1.])\n",
      "x눈  tensor([2., 2.]) y는  tensor([1.])\n",
      "x눈  tensor([2., 2.]) y는  tensor([1.])\n",
      "x눈  tensor([2., 2.]) y는  tensor([1.])\n",
      "x눈  tensor([2., 2.]) y는  tensor([1.])\n",
      "x눈  tensor([2., 2.]) y는  tensor([1.])\n",
      "x눈  tensor([2., 2.]) y는  tensor([1.])\n",
      "x눈  tensor([2., 2.]) y는  tensor([1.])\n",
      "x눈  tensor([2., 2.]) y는  tensor([1.])\n",
      "x눈  tensor([2., 2.]) y는  tensor([1.])\n",
      "x눈  tensor([2., 2.]) y는  tensor([1.])\n",
      "x눈  tensor([2., 2.]) y는  tensor([1.])\n",
      "x눈  tensor([2., 2.]) y는  tensor([1.])\n",
      "x눈  tensor([2., 2.]) y는  tensor([1.])\n",
      "x눈  tensor([2., 2.]) y는  tensor([1.])\n",
      "x눈  tensor([2., 2.]) y는  tensor([1.])\n",
      "x눈  tensor([2., 2.]) y는  tensor([1.])\n",
      "x눈  tensor([2., 2.]) y는  tensor([1.])\n",
      "x눈  tensor([2., 2.]) y는  tensor([1.])\n",
      "x눈  tensor([2., 2.]) y는  tensor([1.])\n",
      "x눈  tensor([2., 2.]) y는  tensor([1.])\n",
      "x눈  tensor([2., 2.]) y는  tensor([1.])\n",
      "x눈  tensor([2., 2.]) y는  tensor([1.])\n",
      "x눈  tensor([2., 2.]) y는  tensor([1.])\n",
      "x눈  tensor([2., 2.]) y는  tensor([1.])\n",
      "x눈  tensor([2., 2.]) y는  tensor([1.])\n",
      "x눈  tensor([2., 2.]) y는  tensor([1.])\n",
      "x눈  tensor([2., 2.]) y는  tensor([1.])\n",
      "x눈  tensor([2., 2.]) y는  tensor([1.])\n",
      "x눈  tensor([2., 2.]) y는  tensor([1.])\n",
      "x눈  tensor([2., 2.]) y는  tensor([1.])\n",
      "x눈  tensor([2., 2.]) y는  tensor([1.])\n"
     ]
    }
   ],
   "source": [
    "for x,y in our_dataset:\n",
    "    print('x눈 ',x , 'y는 ',y)"
   ]
  },
  {
   "cell_type": "code",
   "execution_count": 7,
   "id": "material-impossible",
   "metadata": {},
   "outputs": [
    {
     "name": "stdout",
     "output_type": "stream",
     "text": [
      "50\n"
     ]
    }
   ],
   "source": [
    "my = toy_set(length = 50)\n",
    "print(len(my))"
   ]
  },
  {
   "cell_type": "code",
   "execution_count": 8,
   "id": "cutting-contamination",
   "metadata": {},
   "outputs": [],
   "source": [
    "#transforms\n",
    "#데이터를 변환시켜주는 클래스 만들기 ( x에는 1더해주고 , y에는 2곱해주는)\n",
    "class add_multi(object):\n",
    "    def __init__(self, addx = 1, muly = 2):\n",
    "        self.addx = addx\n",
    "        self.muly = muly\n",
    "        \n",
    "    def __call__(self, sample):\n",
    "        x = sample[0]\n",
    "        y = sample[1]\n",
    "        x = x + self.addx\n",
    "        y = y * self.muly\n",
    "        sample = x, y\n",
    "        return sample\n",
    "        "
   ]
  },
  {
   "cell_type": "code",
   "execution_count": 9,
   "id": "compound-gambling",
   "metadata": {},
   "outputs": [],
   "source": [
    "a_m = add_multi()\n",
    "data_set = toy_set()"
   ]
  },
  {
   "cell_type": "code",
   "execution_count": 10,
   "id": "posted-roots",
   "metadata": {},
   "outputs": [
    {
     "name": "stdout",
     "output_type": "stream",
     "text": [
      "Index:  0 Original x:  tensor([2., 2.]) Original y: tensor([1.])\n",
      "Index:  0 Transformed x_: tensor([3., 3.]) Transformed y_: tensor([2.])\n",
      "Index:  1 Original x:  tensor([2., 2.]) Original y: tensor([1.])\n",
      "Index:  1 Transformed x_: tensor([3., 3.]) Transformed y_: tensor([2.])\n",
      "Index:  2 Original x:  tensor([2., 2.]) Original y: tensor([1.])\n",
      "Index:  2 Transformed x_: tensor([3., 3.]) Transformed y_: tensor([2.])\n",
      "Index:  3 Original x:  tensor([2., 2.]) Original y: tensor([1.])\n",
      "Index:  3 Transformed x_: tensor([3., 3.]) Transformed y_: tensor([2.])\n",
      "Index:  4 Original x:  tensor([2., 2.]) Original y: tensor([1.])\n",
      "Index:  4 Transformed x_: tensor([3., 3.]) Transformed y_: tensor([2.])\n",
      "Index:  5 Original x:  tensor([2., 2.]) Original y: tensor([1.])\n",
      "Index:  5 Transformed x_: tensor([3., 3.]) Transformed y_: tensor([2.])\n",
      "Index:  6 Original x:  tensor([2., 2.]) Original y: tensor([1.])\n",
      "Index:  6 Transformed x_: tensor([3., 3.]) Transformed y_: tensor([2.])\n",
      "Index:  7 Original x:  tensor([2., 2.]) Original y: tensor([1.])\n",
      "Index:  7 Transformed x_: tensor([3., 3.]) Transformed y_: tensor([2.])\n",
      "Index:  8 Original x:  tensor([2., 2.]) Original y: tensor([1.])\n",
      "Index:  8 Transformed x_: tensor([3., 3.]) Transformed y_: tensor([2.])\n",
      "Index:  9 Original x:  tensor([2., 2.]) Original y: tensor([1.])\n",
      "Index:  9 Transformed x_: tensor([3., 3.]) Transformed y_: tensor([2.])\n"
     ]
    }
   ],
   "source": [
    "for i in range(10):\n",
    "    x, y = data_set[i]\n",
    "    print('Index: ', i , 'Original x: ',x, 'Original y:',y)\n",
    "    x_, y_ = a_m(data_set[i])\n",
    "    print('Index: ', i, 'Transformed x_:', x_, 'Transformed y_:', y_)"
   ]
  },
  {
   "cell_type": "code",
   "execution_count": 11,
   "id": "turned-thousand",
   "metadata": {},
   "outputs": [],
   "source": [
    "cust_data_set = toy_set(transform = a_m)\n"
   ]
  },
  {
   "cell_type": "code",
   "execution_count": 12,
   "id": "laughing-teach",
   "metadata": {},
   "outputs": [
    {
     "name": "stdout",
     "output_type": "stream",
     "text": [
      "Index:  0 Original x:  tensor([2., 2.]) Original y: tensor([1.])\n",
      "Index:  0 Transformed x_: tensor([3., 3.]) Transformed y_: tensor([2.])\n",
      "Index:  1 Original x:  tensor([2., 2.]) Original y: tensor([1.])\n",
      "Index:  1 Transformed x_: tensor([3., 3.]) Transformed y_: tensor([2.])\n",
      "Index:  2 Original x:  tensor([2., 2.]) Original y: tensor([1.])\n",
      "Index:  2 Transformed x_: tensor([3., 3.]) Transformed y_: tensor([2.])\n",
      "Index:  3 Original x:  tensor([2., 2.]) Original y: tensor([1.])\n",
      "Index:  3 Transformed x_: tensor([3., 3.]) Transformed y_: tensor([2.])\n",
      "Index:  4 Original x:  tensor([2., 2.]) Original y: tensor([1.])\n",
      "Index:  4 Transformed x_: tensor([3., 3.]) Transformed y_: tensor([2.])\n",
      "Index:  5 Original x:  tensor([2., 2.]) Original y: tensor([1.])\n",
      "Index:  5 Transformed x_: tensor([3., 3.]) Transformed y_: tensor([2.])\n",
      "Index:  6 Original x:  tensor([2., 2.]) Original y: tensor([1.])\n",
      "Index:  6 Transformed x_: tensor([3., 3.]) Transformed y_: tensor([2.])\n",
      "Index:  7 Original x:  tensor([2., 2.]) Original y: tensor([1.])\n",
      "Index:  7 Transformed x_: tensor([3., 3.]) Transformed y_: tensor([2.])\n",
      "Index:  8 Original x:  tensor([2., 2.]) Original y: tensor([1.])\n",
      "Index:  8 Transformed x_: tensor([3., 3.]) Transformed y_: tensor([2.])\n",
      "Index:  9 Original x:  tensor([2., 2.]) Original y: tensor([1.])\n",
      "Index:  9 Transformed x_: tensor([3., 3.]) Transformed y_: tensor([2.])\n"
     ]
    }
   ],
   "source": [
    "for i in range(10):\n",
    "    x, y = data_set[i]\n",
    "    print('Index: ', i , 'Original x: ',x, 'Original y:',y)\n",
    "    x_, y_ = cust_data_set[i]\n",
    "    print('Index: ', i, 'Transformed x_:', x_, 'Transformed y_:', y_)"
   ]
  },
  {
   "cell_type": "code",
   "execution_count": 13,
   "id": "assigned-cemetery",
   "metadata": {},
   "outputs": [],
   "source": [
    "class add_mult(object):\n",
    "    def __init__(self, addx = 1, muly = 2):\n",
    "        self.addx = addx\n",
    "        self.muly = muly\n",
    "        \n",
    "    def __call__(self, sample):\n",
    "        x = sample[0]\n",
    "        y = sample[1]\n",
    "        x = x + self.addx\n",
    "        y = y * self.muly\n",
    "        sample = x, y\n",
    "        return sample"
   ]
  },
  {
   "cell_type": "code",
   "execution_count": 14,
   "id": "perfect-nigeria",
   "metadata": {},
   "outputs": [],
   "source": [
    "my_add_mult  = add_mult()\n",
    "mine = toy_set(transform =my_add_mult )"
   ]
  },
  {
   "cell_type": "code",
   "execution_count": 16,
   "id": "mathematical-hello",
   "metadata": {},
   "outputs": [
    {
     "name": "stdout",
     "output_type": "stream",
     "text": [
      "x:  tensor([2., 2.]) y:  tensor([1.])\n",
      "mine_x:  tensor([3., 3.]) mine_y:  tensor([2.])\n",
      "x:  tensor([2., 2.]) y:  tensor([1.])\n",
      "mine_x:  tensor([3., 3.]) mine_y:  tensor([2.])\n",
      "x:  tensor([2., 2.]) y:  tensor([1.])\n",
      "mine_x:  tensor([3., 3.]) mine_y:  tensor([2.])\n",
      "x:  tensor([2., 2.]) y:  tensor([1.])\n",
      "mine_x:  tensor([3., 3.]) mine_y:  tensor([2.])\n",
      "x:  tensor([2., 2.]) y:  tensor([1.])\n",
      "mine_x:  tensor([3., 3.]) mine_y:  tensor([2.])\n",
      "x:  tensor([2., 2.]) y:  tensor([1.])\n",
      "mine_x:  tensor([3., 3.]) mine_y:  tensor([2.])\n",
      "x:  tensor([2., 2.]) y:  tensor([1.])\n",
      "mine_x:  tensor([3., 3.]) mine_y:  tensor([2.])\n",
      "x:  tensor([2., 2.]) y:  tensor([1.])\n",
      "mine_x:  tensor([3., 3.]) mine_y:  tensor([2.])\n",
      "x:  tensor([2., 2.]) y:  tensor([1.])\n",
      "mine_x:  tensor([3., 3.]) mine_y:  tensor([2.])\n",
      "x:  tensor([2., 2.]) y:  tensor([1.])\n",
      "mine_x:  tensor([3., 3.]) mine_y:  tensor([2.])\n"
     ]
    }
   ],
   "source": [
    "for i in range(10):\n",
    "    x, y = data_set[i]\n",
    "    print(\"x: \",x,\"y: \",y)\n",
    "    x_, y_ = mine[i]\n",
    "    print(\"mine_x: \",x_,\"mine_y: \",y_)"
   ]
  },
  {
   "cell_type": "code",
   "execution_count": 17,
   "id": "respiratory-vitamin",
   "metadata": {},
   "outputs": [],
   "source": [
    "##Compose연습\n",
    "from torchvision import transforms"
   ]
  },
  {
   "cell_type": "code",
   "execution_count": 18,
   "id": "sacred-housing",
   "metadata": {},
   "outputs": [],
   "source": [
    "class mult(object):\n",
    "    def __init__(self, mult = 100):\n",
    "        self.mult = mult\n",
    "        \n",
    "    #executor\n",
    "    def __call__(self, sample):\n",
    "        x = sample[0]\n",
    "        y = sample[1]\n",
    "        x = x * self.mult\n",
    "        y = y * self.mult\n",
    "        sample = x,y\n",
    "        return sample"
   ]
  },
  {
   "cell_type": "code",
   "execution_count": 19,
   "id": "combined-panel",
   "metadata": {},
   "outputs": [
    {
     "name": "stdout",
     "output_type": "stream",
     "text": [
      "The combination of transforms (Compose):  Compose(\n",
      "    <__main__.add_mult object at 0x0000022CFB1DEBC8>\n",
      "    <__main__.mult object at 0x0000022CFB1DEB48>\n",
      ")\n"
     ]
    }
   ],
   "source": [
    "data_transform = transforms.Compose([add_mult(), mult()])\n",
    "print(\"The combination of transforms (Compose): \",data_transform)"
   ]
  },
  {
   "cell_type": "code",
   "execution_count": 20,
   "id": "linear-honduras",
   "metadata": {},
   "outputs": [
    {
     "name": "stdout",
     "output_type": "stream",
     "text": [
      "Original x:  tensor([2., 2.]) Original y:  tensor([1.])\n",
      "Transformed x_: tensor([300., 300.]) Transformed y_: tensor([200.])\n"
     ]
    }
   ],
   "source": [
    "x,y=data_set[0]\n",
    "x_,y_=data_transform(data_set[0])\n",
    "print( 'Original x: ', x, 'Original y: ', y)\n",
    "\n",
    "print( 'Transformed x_:', x_, 'Transformed y_:', y_)"
   ]
  },
  {
   "cell_type": "code",
   "execution_count": 21,
   "id": "drawn-wallace",
   "metadata": {},
   "outputs": [],
   "source": [
    "compose_data_set = toy_set(transform = data_transform)"
   ]
  },
  {
   "cell_type": "code",
   "execution_count": 22,
   "id": "everyday-examination",
   "metadata": {},
   "outputs": [
    {
     "ename": "SyntaxError",
     "evalue": "unexpected EOF while parsing (<ipython-input-22-f19647c42b98>, line 7)",
     "output_type": "error",
     "traceback": [
      "\u001b[1;36m  File \u001b[1;32m\"<ipython-input-22-f19647c42b98>\"\u001b[1;36m, line \u001b[1;32m7\u001b[0m\n\u001b[1;33m    print('Index: ', i, 'Compose Transformed x_co: ', x_co ,'Compose Transformed y_co: ',\u001b[0m\n\u001b[1;37m                                                                                         ^\u001b[0m\n\u001b[1;31mSyntaxError\u001b[0m\u001b[1;31m:\u001b[0m unexpected EOF while parsing\n"
     ]
    }
   ],
   "source": [
    "for i in range(3):\n",
    "    x, y = data_set[i]\n",
    "    print('Index: ', i, 'Original x: ', x, 'Original y: ', y)\n",
    "    x_, y_ = cust_data_set[i]\n",
    "    print('Index: ', i, 'Transformed x_:', x_, 'Transformed y_:', y_)\n",
    "    x_co, y_co = compose_data_set[i]\n",
    "    print('Index: ', i, 'Compose Transformed x_co: ', x_co ,'Compose Transformed y_co: ',"
   ]
  },
  {
   "cell_type": "code",
   "execution_count": 23,
   "id": "psychological-apparel",
   "metadata": {},
   "outputs": [
    {
     "name": "stdout",
     "output_type": "stream",
     "text": [
      "Index:  0 Original x:  tensor([2., 2.]) Original y:  tensor([1.])\n",
      "Index:  0 Transformed x_: tensor([3., 3.]) Transformed y_: tensor([2.])\n",
      "Index:  0 Compose Transformed x_co:  tensor([300., 300.]) Compose Transformed y_co:  tensor([200.])\n",
      "Index:  1 Original x:  tensor([2., 2.]) Original y:  tensor([1.])\n",
      "Index:  1 Transformed x_: tensor([3., 3.]) Transformed y_: tensor([2.])\n",
      "Index:  1 Compose Transformed x_co:  tensor([300., 300.]) Compose Transformed y_co:  tensor([200.])\n",
      "Index:  2 Original x:  tensor([2., 2.]) Original y:  tensor([1.])\n",
      "Index:  2 Transformed x_: tensor([3., 3.]) Transformed y_: tensor([2.])\n",
      "Index:  2 Compose Transformed x_co:  tensor([300., 300.]) Compose Transformed y_co:  tensor([200.])\n"
     ]
    }
   ],
   "source": [
    "# Use loop to print out first 3 elements in dataset\n",
    "\n",
    "for i in range(3):\n",
    "    x, y = data_set[i]\n",
    "    print('Index: ', i, 'Original x: ', x, 'Original y: ', y)\n",
    "    x_, y_ = cust_data_set[i]\n",
    "    print('Index: ', i, 'Transformed x_:', x_, 'Transformed y_:', y_)\n",
    "    x_co, y_co = compose_data_set[i]\n",
    "    print('Index: ', i, 'Compose Transformed x_co: ', x_co ,'Compose Transformed y_co: ',y_co)"
   ]
  },
  {
   "cell_type": "code",
   "execution_count": 25,
   "id": "certified-joshua",
   "metadata": {},
   "outputs": [],
   "source": [
    "data_transform = transforms.Compose([add_mult(), mult()])"
   ]
  },
  {
   "cell_type": "code",
   "execution_count": 26,
   "id": "parental-continuity",
   "metadata": {},
   "outputs": [],
   "source": [
    "compose_data_set = toy_set(transform = data_transform)"
   ]
  },
  {
   "cell_type": "code",
   "execution_count": 27,
   "id": "dramatic-class",
   "metadata": {},
   "outputs": [],
   "source": [
    "my_compose = transforms.Compose([add_mult(), mult()])"
   ]
  },
  {
   "cell_type": "code",
   "execution_count": 28,
   "id": "political-pastor",
   "metadata": {},
   "outputs": [],
   "source": [
    "my = toy_set(transform = my_compose)"
   ]
  },
  {
   "cell_type": "code",
   "execution_count": 29,
   "id": "burning-tennessee",
   "metadata": {},
   "outputs": [
    {
     "name": "stdout",
     "output_type": "stream",
     "text": [
      "Index:  0 Transformed x:  tensor([300., 300.]) Transformed y:  tensor([1.])\n",
      "Index:  1 Transformed x:  tensor([300., 300.]) Transformed y:  tensor([1.])\n",
      "Index:  2 Transformed x:  tensor([300., 300.]) Transformed y:  tensor([1.])\n"
     ]
    }
   ],
   "source": [
    "for i in range(3):\n",
    "    x_, y_ = my[i]\n",
    "    print('Index: ',i, 'Transformed x: ',x_, 'Transformed y: ',y)"
   ]
  },
  {
   "cell_type": "code",
   "execution_count": null,
   "id": "developing-meditation",
   "metadata": {},
   "outputs": [],
   "source": []
  }
 ],
 "metadata": {
  "kernelspec": {
   "display_name": "Python 3",
   "language": "python",
   "name": "python3"
  },
  "language_info": {
   "codemirror_mode": {
    "name": "ipython",
    "version": 3
   },
   "file_extension": ".py",
   "mimetype": "text/x-python",
   "name": "python",
   "nbconvert_exporter": "python",
   "pygments_lexer": "ipython3",
   "version": "3.7.9"
  }
 },
 "nbformat": 4,
 "nbformat_minor": 5
}
