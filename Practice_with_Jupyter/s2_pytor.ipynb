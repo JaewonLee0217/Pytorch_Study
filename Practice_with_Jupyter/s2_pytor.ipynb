{
 "cells": [
  {
   "cell_type": "code",
   "execution_count": 1,
   "id": "charming-knowing",
   "metadata": {},
   "outputs": [],
   "source": [
    "import numpy as np\n",
    "import matplotlib.pyplot as plt\n",
    "import torch\n",
    "import pandas as pd"
   ]
  },
  {
   "cell_type": "code",
   "execution_count": 2,
   "id": "egyptian-creature",
   "metadata": {},
   "outputs": [
    {
     "data": {
      "text/plain": [
       "tensor([[11, 12, 13],\n",
       "        [21, 22, 23],\n",
       "        [31, 32, 33]])"
      ]
     },
     "execution_count": 2,
     "metadata": {},
     "output_type": "execute_result"
    }
   ],
   "source": [
    "twoD_list = [[11,12,13],[21,22,23],[31,32,33]]\n",
    "twoD_tensor = torch.tensor(twoD_list)\n",
    "twoD_tensor"
   ]
  },
  {
   "cell_type": "code",
   "execution_count": 3,
   "id": "spanish-belle",
   "metadata": {},
   "outputs": [
    {
     "data": {
      "text/plain": [
       "2"
      ]
     },
     "execution_count": 3,
     "metadata": {},
     "output_type": "execute_result"
    }
   ],
   "source": [
    "twoD_tensor.ndimension()"
   ]
  },
  {
   "cell_type": "code",
   "execution_count": 4,
   "id": "dynamic-adapter",
   "metadata": {},
   "outputs": [
    {
     "data": {
      "text/plain": [
       "torch.Size([3, 3])"
      ]
     },
     "execution_count": 4,
     "metadata": {},
     "output_type": "execute_result"
    }
   ],
   "source": [
    "twoD_tensor.shape\n"
   ]
  },
  {
   "cell_type": "code",
   "execution_count": 5,
   "id": "functioning-fishing",
   "metadata": {},
   "outputs": [
    {
     "data": {
      "text/plain": [
       "torch.Size([3, 3])"
      ]
     },
     "execution_count": 5,
     "metadata": {},
     "output_type": "execute_result"
    }
   ],
   "source": [
    "twoD_tensor.size()\n"
   ]
  },
  {
   "cell_type": "code",
   "execution_count": 6,
   "id": "emotional-voluntary",
   "metadata": {},
   "outputs": [
    {
     "data": {
      "text/plain": [
       "9"
      ]
     },
     "execution_count": 6,
     "metadata": {},
     "output_type": "execute_result"
    }
   ],
   "source": [
    "twoD_tensor.numel()"
   ]
  },
  {
   "cell_type": "code",
   "execution_count": 7,
   "id": "pointed-softball",
   "metadata": {},
   "outputs": [
    {
     "name": "stdout",
     "output_type": "stream",
     "text": [
      "Tensor -> numpy....\n",
      "Type after converting:  int64\n"
     ]
    }
   ],
   "source": [
    "twoD_numpy = twoD_tensor.numpy()\n",
    "print(\"Tensor -> numpy....\")\n",
    "twoD_numpy\n",
    "print(\"Type after converting: \", twoD_numpy.dtype)"
   ]
  },
  {
   "cell_type": "code",
   "execution_count": 8,
   "id": "human-contrary",
   "metadata": {},
   "outputs": [
    {
     "data": {
      "text/plain": [
       "array([[11, 12, 13],\n",
       "       [21, 22, 23],\n",
       "       [31, 32, 33]], dtype=int64)"
      ]
     },
     "execution_count": 8,
     "metadata": {},
     "output_type": "execute_result"
    }
   ],
   "source": [
    "twoD_numpy\n"
   ]
  },
  {
   "cell_type": "code",
   "execution_count": 9,
   "id": "fabulous-identity",
   "metadata": {},
   "outputs": [
    {
     "ename": "TypeError",
     "evalue": "'numpy.ndarray' object is not callable",
     "output_type": "error",
     "traceback": [
      "\u001b[1;31m---------------------------------------------------------------------------\u001b[0m",
      "\u001b[1;31mTypeError\u001b[0m                                 Traceback (most recent call last)",
      "\u001b[1;32m<ipython-input-9-003b34eef86e>\u001b[0m in \u001b[0;36m<module>\u001b[1;34m\u001b[0m\n\u001b[1;32m----> 1\u001b[1;33m \u001b[0mp\u001b[0m \u001b[1;33m=\u001b[0m \u001b[0mtorch\u001b[0m\u001b[1;33m.\u001b[0m\u001b[0mfrom_numpy\u001b[0m\u001b[1;33m(\u001b[0m\u001b[0mtwoD_numpy\u001b[0m\u001b[1;33m(\u001b[0m\u001b[1;33m)\u001b[0m\u001b[1;33m)\u001b[0m\u001b[1;33m\u001b[0m\u001b[1;33m\u001b[0m\u001b[0m\n\u001b[0m",
      "\u001b[1;31mTypeError\u001b[0m: 'numpy.ndarray' object is not callable"
     ]
    }
   ],
   "source": [
    "p = torch.from_numpy(twoD_numpy())"
   ]
  },
  {
   "cell_type": "code",
   "execution_count": 10,
   "id": "english-contributor",
   "metadata": {},
   "outputs": [
    {
     "data": {
      "text/plain": [
       "tensor([[11, 12, 13],\n",
       "        [21, 22, 23],\n",
       "        [31, 32, 33]])"
      ]
     },
     "execution_count": 10,
     "metadata": {},
     "output_type": "execute_result"
    }
   ],
   "source": [
    "p=  torch.from_numpy(twoD_numpy)\n",
    "p"
   ]
  },
  {
   "cell_type": "code",
   "execution_count": 11,
   "id": "ideal-poetry",
   "metadata": {},
   "outputs": [
    {
     "data": {
      "text/plain": [
       "torch.int64"
      ]
     },
     "execution_count": 11,
     "metadata": {},
     "output_type": "execute_result"
    }
   ],
   "source": [
    "p.dtype"
   ]
  },
  {
   "cell_type": "code",
   "execution_count": 13,
   "id": "understood-providence",
   "metadata": {},
   "outputs": [
    {
     "name": "stdout",
     "output_type": "stream",
     "text": [
      "Pandas DataFrame to numpy:  [[ 11  12]\n",
      " [ 21  22]\n",
      " [ 31 312]]\n",
      "Type Befroe converting:  int64\n",
      "=====================================================\n",
      "Pandas DataFrame to tensor:  tensor([[ 11,  12],\n",
      "        [ 21,  22],\n",
      "        [ 31, 312]])\n",
      "Type AFTER converting:  torch.int64\n"
     ]
    }
   ],
   "source": [
    "# Pandas Dataframe to a tensor\n",
    "df = pd.DataFrame({'a':[11,21,31], 'b':[12,22,312]})\n",
    "print(\"Pandas DataFrame to numpy: \",df.values)\n",
    "print(\"Type Befroe converting: \",df.values.dtype)\n",
    "print(\"=====================================================\")\n",
    "\n",
    "new_tensor = torch.from_numpy(df.values)\n",
    "print(\"Pandas DataFrame to tensor: \",new_tensor)\n",
    "print(\"Type AFTER converting: \",new_tensor.dtype)"
   ]
  },
  {
   "cell_type": "code",
   "execution_count": 14,
   "id": "transparent-michael",
   "metadata": {},
   "outputs": [
    {
     "data": {
      "text/html": [
       "<div>\n",
       "<style scoped>\n",
       "    .dataframe tbody tr th:only-of-type {\n",
       "        vertical-align: middle;\n",
       "    }\n",
       "\n",
       "    .dataframe tbody tr th {\n",
       "        vertical-align: top;\n",
       "    }\n",
       "\n",
       "    .dataframe thead th {\n",
       "        text-align: right;\n",
       "    }\n",
       "</style>\n",
       "<table border=\"1\" class=\"dataframe\">\n",
       "  <thead>\n",
       "    <tr style=\"text-align: right;\">\n",
       "      <th></th>\n",
       "      <th>a</th>\n",
       "      <th>b</th>\n",
       "    </tr>\n",
       "  </thead>\n",
       "  <tbody>\n",
       "    <tr>\n",
       "      <th>0</th>\n",
       "      <td>11</td>\n",
       "      <td>12</td>\n",
       "    </tr>\n",
       "    <tr>\n",
       "      <th>1</th>\n",
       "      <td>21</td>\n",
       "      <td>22</td>\n",
       "    </tr>\n",
       "    <tr>\n",
       "      <th>2</th>\n",
       "      <td>31</td>\n",
       "      <td>312</td>\n",
       "    </tr>\n",
       "  </tbody>\n",
       "</table>\n",
       "</div>"
      ],
      "text/plain": [
       "    a    b\n",
       "0  11   12\n",
       "1  21   22\n",
       "2  31  312"
      ]
     },
     "execution_count": 14,
     "metadata": {},
     "output_type": "execute_result"
    }
   ],
   "source": [
    "df\n"
   ]
  },
  {
   "cell_type": "code",
   "execution_count": 15,
   "id": "parental-journal",
   "metadata": {},
   "outputs": [
    {
     "data": {
      "text/plain": [
       "tensor([[ 11,  12],\n",
       "        [ 21,  22],\n",
       "        [ 31, 312]])"
      ]
     },
     "execution_count": 15,
     "metadata": {},
     "output_type": "execute_result"
    }
   ],
   "source": [
    "new_tensor"
   ]
  },
  {
   "cell_type": "code",
   "execution_count": 16,
   "id": "personalized-afghanistan",
   "metadata": {},
   "outputs": [
    {
     "data": {
      "text/plain": [
       "tensor([[11,  3],\n",
       "        [33,  3],\n",
       "        [22,  2]])"
      ]
     },
     "execution_count": 16,
     "metadata": {},
     "output_type": "execute_result"
    }
   ],
   "source": [
    "#converting Pandas Series to tensor\n",
    "df = pd.DataFrame({'A':[11,33,22],'B':[3,3,2]})\n",
    "new_t = torch.from_numpy(df.values)\n",
    "new_t"
   ]
  },
  {
   "cell_type": "code",
   "execution_count": 17,
   "id": "ideal-clinic",
   "metadata": {},
   "outputs": [
    {
     "name": "stdout",
     "output_type": "stream",
     "text": [
      "What is the value on 2nd_row 3rd_colum? tensor(23)\n"
     ]
    }
   ],
   "source": [
    "t_ex = torch.tensor([[11,12,13],[21,22,23],[31,32,33]])\n",
    "print(\"What is the value on 2nd_row 3rd_colum?\",t_ex[1,2])"
   ]
  },
  {
   "cell_type": "code",
   "execution_count": 18,
   "id": "foreign-tuning",
   "metadata": {},
   "outputs": [
    {
     "data": {
      "text/plain": [
       "tensor([11, 12, 13])"
      ]
     },
     "execution_count": 18,
     "metadata": {},
     "output_type": "execute_result"
    }
   ],
   "source": [
    "t_ex[0]"
   ]
  },
  {
   "cell_type": "code",
   "execution_count": 19,
   "id": "fantastic-witch",
   "metadata": {},
   "outputs": [
    {
     "data": {
      "text/plain": [
       "tensor(11)"
      ]
     },
     "execution_count": 19,
     "metadata": {},
     "output_type": "execute_result"
    }
   ],
   "source": [
    "t_ex[0][0]\n",
    "\n"
   ]
  },
  {
   "cell_type": "code",
   "execution_count": 20,
   "id": "motivated-eligibility",
   "metadata": {},
   "outputs": [
    {
     "data": {
      "text/plain": [
       "tensor([11, 12])"
      ]
     },
     "execution_count": 20,
     "metadata": {},
     "output_type": "execute_result"
    }
   ],
   "source": [
    "t_ex[0,0:2]"
   ]
  },
  {
   "cell_type": "code",
   "execution_count": 21,
   "id": "divine-baseball",
   "metadata": {},
   "outputs": [
    {
     "name": "stdout",
     "output_type": "stream",
     "text": [
      "1. Slicing step on tensor_example: \n",
      "Result after tensor_example[1:3]:  tensor([[21, 22, 23],\n",
      "        [31, 32, 33]])\n",
      "Dimension after tensor_example[1:3]:  2\n",
      "================================================\n",
      "2. Pick an index on sliced_tensor_example: \n",
      "Result after sliced_tensor_example[1]:  tensor([31, 32, 33])\n",
      "Dimension after sliced_tensor_example[1]:  1\n",
      "================================================\n",
      "3. Combine these step together:\n",
      "Result:  tensor([31, 32, 33])\n",
      "Dimension:  1\n"
     ]
    }
   ],
   "source": [
    "tensor_example = torch.tensor([[11, 12, 13], [21, 22, 23], [31, 32, 33]])\n",
    "sliced_tensor_example = tensor_example[1:3]\n",
    "print(\"1. Slicing step on tensor_example: \")\n",
    "print(\"Result after tensor_example[1:3]: \", sliced_tensor_example)\n",
    "print(\"Dimension after tensor_example[1:3]: \", sliced_tensor_example.ndimension())\n",
    "print(\"================================================\")\n",
    "print(\"2. Pick an index on sliced_tensor_example: \")\n",
    "print(\"Result after sliced_tensor_example[1]: \", sliced_tensor_example[1])\n",
    "print(\"Dimension after sliced_tensor_example[1]: \", sliced_tensor_example[1].ndimension())\n",
    "print(\"================================================\")\n",
    "print(\"3. Combine these step together:\")\n",
    "print(\"Result: \", tensor_example[1:3][1])\n",
    "print(\"Dimension: \", tensor_example[1:3][1].ndimension())"
   ]
  },
  {
   "cell_type": "code",
   "execution_count": 22,
   "id": "filled-virus",
   "metadata": {},
   "outputs": [
    {
     "data": {
      "text/plain": [
       "tensor([[11, 12, 13],\n",
       "        [21, 32, 23],\n",
       "        [31, 32, 33]])"
      ]
     },
     "execution_count": 22,
     "metadata": {},
     "output_type": "execute_result"
    }
   ],
   "source": [
    "tensor_ques = torch.tensor([[11, 12, 13], [21, 22, 23], [31, 32, 33]])\n",
    "tensor_ques[1][1] = tensor_ques[2][1]\n",
    "tensor_ques"
   ]
  },
  {
   "cell_type": "code",
   "execution_count": 27,
   "id": "incoming-alloy",
   "metadata": {},
   "outputs": [
    {
     "data": {
      "text/plain": [
       "tensor([[3, 1],\n",
       "        [1, 3]])"
      ]
     },
     "execution_count": 27,
     "metadata": {},
     "output_type": "execute_result"
    }
   ],
   "source": [
    "#Tensor_operations\n",
    "X = torch.tensor([[1,0],[0,1]])\n",
    "Y = torch.tensor([[2,1],[1,2]])\n",
    "c=X+Y\n",
    "c"
   ]
  },
  {
   "cell_type": "code",
   "execution_count": 28,
   "id": "handled-transport",
   "metadata": {},
   "outputs": [
    {
     "data": {
      "text/plain": [
       "tensor([[4, 2],\n",
       "        [2, 4]])"
      ]
     },
     "execution_count": 28,
     "metadata": {},
     "output_type": "execute_result"
    }
   ],
   "source": [
    "Y = torch.tensor([[2,1],[1,2]])\n",
    "two_Y = 2*Y\n",
    "two_Y"
   ]
  },
  {
   "cell_type": "code",
   "execution_count": 29,
   "id": "nearby-lotus",
   "metadata": {},
   "outputs": [
    {
     "data": {
      "text/plain": [
       "tensor([[17, 23],\n",
       "        [ 5,  7]])"
      ]
     },
     "execution_count": 29,
     "metadata": {},
     "output_type": "execute_result"
    }
   ],
   "source": [
    "#Matrix multiplication\n",
    "#mm\n",
    "A = torch.tensor([[1,2,3],[1,0,1]])\n",
    "B = torch.tensor([[1,2],[2,3],[4,5]])\n",
    "torch.mm(A,B)\n"
   ]
  },
  {
   "cell_type": "code",
   "execution_count": 30,
   "id": "alternative-rendering",
   "metadata": {},
   "outputs": [
    {
     "ename": "RuntimeError",
     "evalue": "1D tensors expected, but got 2D and 2D tensors",
     "output_type": "error",
     "traceback": [
      "\u001b[1;31m---------------------------------------------------------------------------\u001b[0m",
      "\u001b[1;31mRuntimeError\u001b[0m                              Traceback (most recent call last)",
      "\u001b[1;32m<ipython-input-30-9fc768a00542>\u001b[0m in \u001b[0;36m<module>\u001b[1;34m\u001b[0m\n\u001b[1;32m----> 1\u001b[1;33m \u001b[0mtorch\u001b[0m\u001b[1;33m.\u001b[0m\u001b[0mdot\u001b[0m\u001b[1;33m(\u001b[0m\u001b[0mA\u001b[0m\u001b[1;33m,\u001b[0m\u001b[0mB\u001b[0m\u001b[1;33m)\u001b[0m\u001b[1;33m\u001b[0m\u001b[1;33m\u001b[0m\u001b[0m\n\u001b[0m",
      "\u001b[1;31mRuntimeError\u001b[0m: 1D tensors expected, but got 2D and 2D tensors"
     ]
    }
   ],
   "source": [
    "torch.dot(A,B)"
   ]
  },
  {
   "cell_type": "code",
   "execution_count": 31,
   "id": "hollywood-newspaper",
   "metadata": {},
   "outputs": [],
   "source": [
    "#dot연산은 1D tensor연산에만 가능, 2D에서는 mm메소드 사용한다.\n"
   ]
  },
  {
   "cell_type": "code",
   "execution_count": 32,
   "id": "worthy-affect",
   "metadata": {},
   "outputs": [
    {
     "name": "stdout",
     "output_type": "stream",
     "text": [
      "X의 모양:  torch.Size([2, 4])\n",
      "Y의 모양 :  torch.Size([4, 2])\n",
      "X*Y(2D):  tensor([[34, 44],\n",
      "        [45, 59]])\n"
     ]
    }
   ],
   "source": [
    "X = torch.tensor([[1,2,3,4],[2,3,4,5]])\n",
    "print(\"X의 모양: \",X.shape)\n",
    "Y  = torch.tensor([[1,2],[2,3],[3,4],[5,6]])\n",
    "print(\"Y의 모양 : \",Y.shape)\n",
    "print(\"X*Y(2D): \", torch.mm(X,Y))"
   ]
  },
  {
   "cell_type": "code",
   "execution_count": 33,
   "id": "confidential-carbon",
   "metadata": {},
   "outputs": [
    {
     "data": {
      "text/plain": [
       "tensor([[ 5,  8, 11, 14],\n",
       "        [ 8, 13, 18, 23],\n",
       "        [11, 18, 25, 32],\n",
       "        [17, 28, 39, 50]])"
      ]
     },
     "execution_count": 33,
     "metadata": {},
     "output_type": "execute_result"
    }
   ],
   "source": [
    "torch.mm(Y,X)"
   ]
  },
  {
   "cell_type": "code",
   "execution_count": null,
   "id": "progressive-aquatic",
   "metadata": {},
   "outputs": [],
   "source": []
  }
 ],
 "metadata": {
  "kernelspec": {
   "display_name": "Python 3",
   "language": "python",
   "name": "python3"
  },
  "language_info": {
   "codemirror_mode": {
    "name": "ipython",
    "version": 3
   },
   "file_extension": ".py",
   "mimetype": "text/x-python",
   "name": "python",
   "nbconvert_exporter": "python",
   "pygments_lexer": "ipython3",
   "version": "3.7.9"
  }
 },
 "nbformat": 4,
 "nbformat_minor": 5
}
